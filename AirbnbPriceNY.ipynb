{
 "cells": [
  {
   "cell_type": "code",
   "execution_count": 1,
   "metadata": {},
   "outputs": [],
   "source": [
    "import numpy as np\n",
    "import pandas as pd \n",
    "import matplotlib.pyplot as plt\n",
    "from random import choices"
   ]
  },
  {
   "cell_type": "markdown",
   "metadata": {},
   "source": [
    "# Look at the data"
   ]
  },
  {
   "cell_type": "code",
   "execution_count": 74,
   "metadata": {},
   "outputs": [
    {
     "name": "stderr",
     "output_type": "stream",
     "text": [
      "/opt/anaconda3/lib/python3.7/site-packages/IPython/core/interactiveshell.py:3063: DtypeWarning: Columns (67) have mixed types.Specify dtype option on import or set low_memory=False.\n",
      "  interactivity=interactivity, compiler=compiler, result=result)\n"
     ]
    }
   ],
   "source": [
    "df=pd.read_csv('../listings.csv')\n",
    "dfgz = pd.read_csv('../listings.csv.gz')"
   ]
  },
  {
   "cell_type": "code",
   "execution_count": 3,
   "metadata": {},
   "outputs": [
    {
     "data": {
      "text/html": [
       "<div>\n",
       "<style scoped>\n",
       "    .dataframe tbody tr th:only-of-type {\n",
       "        vertical-align: middle;\n",
       "    }\n",
       "\n",
       "    .dataframe tbody tr th {\n",
       "        vertical-align: top;\n",
       "    }\n",
       "\n",
       "    .dataframe thead th {\n",
       "        text-align: right;\n",
       "    }\n",
       "</style>\n",
       "<table border=\"1\" class=\"dataframe\">\n",
       "  <thead>\n",
       "    <tr style=\"text-align: right;\">\n",
       "      <th></th>\n",
       "      <th>id</th>\n",
       "      <th>listing_url</th>\n",
       "      <th>scrape_id</th>\n",
       "      <th>last_scraped</th>\n",
       "      <th>name</th>\n",
       "      <th>description</th>\n",
       "      <th>neighborhood_overview</th>\n",
       "      <th>picture_url</th>\n",
       "      <th>host_id</th>\n",
       "      <th>host_url</th>\n",
       "      <th>...</th>\n",
       "      <th>review_scores_communication</th>\n",
       "      <th>review_scores_location</th>\n",
       "      <th>review_scores_value</th>\n",
       "      <th>license</th>\n",
       "      <th>instant_bookable</th>\n",
       "      <th>calculated_host_listings_count</th>\n",
       "      <th>calculated_host_listings_count_entire_homes</th>\n",
       "      <th>calculated_host_listings_count_private_rooms</th>\n",
       "      <th>calculated_host_listings_count_shared_rooms</th>\n",
       "      <th>reviews_per_month</th>\n",
       "    </tr>\n",
       "  </thead>\n",
       "  <tbody>\n",
       "    <tr>\n",
       "      <th>0</th>\n",
       "      <td>2595</td>\n",
       "      <td>https://www.airbnb.com/rooms/2595</td>\n",
       "      <td>20211204143024</td>\n",
       "      <td>2021-12-05</td>\n",
       "      <td>Skylit Midtown Castle</td>\n",
       "      <td>Beautiful, spacious skylit studio in the heart...</td>\n",
       "      <td>Centrally located in the heart of Manhattan ju...</td>\n",
       "      <td>https://a0.muscache.com/pictures/f0813a11-40b2...</td>\n",
       "      <td>2845</td>\n",
       "      <td>https://www.airbnb.com/users/show/2845</td>\n",
       "      <td>...</td>\n",
       "      <td>4.79</td>\n",
       "      <td>4.86</td>\n",
       "      <td>4.41</td>\n",
       "      <td>NaN</td>\n",
       "      <td>f</td>\n",
       "      <td>3</td>\n",
       "      <td>3</td>\n",
       "      <td>0</td>\n",
       "      <td>0</td>\n",
       "      <td>0.33</td>\n",
       "    </tr>\n",
       "    <tr>\n",
       "      <th>1</th>\n",
       "      <td>3831</td>\n",
       "      <td>https://www.airbnb.com/rooms/3831</td>\n",
       "      <td>20211204143024</td>\n",
       "      <td>2021-12-05</td>\n",
       "      <td>Whole flr w/private bdrm, bath &amp; kitchen(pls r...</td>\n",
       "      <td>Enjoy 500 s.f. top floor in 1899 brownstone, w...</td>\n",
       "      <td>Just the right mix of urban center and local n...</td>\n",
       "      <td>https://a0.muscache.com/pictures/e49999c2-9fd5...</td>\n",
       "      <td>4869</td>\n",
       "      <td>https://www.airbnb.com/users/show/4869</td>\n",
       "      <td>...</td>\n",
       "      <td>4.80</td>\n",
       "      <td>4.71</td>\n",
       "      <td>4.64</td>\n",
       "      <td>NaN</td>\n",
       "      <td>f</td>\n",
       "      <td>1</td>\n",
       "      <td>1</td>\n",
       "      <td>0</td>\n",
       "      <td>0</td>\n",
       "      <td>4.86</td>\n",
       "    </tr>\n",
       "    <tr>\n",
       "      <th>2</th>\n",
       "      <td>5121</td>\n",
       "      <td>https://www.airbnb.com/rooms/5121</td>\n",
       "      <td>20211204143024</td>\n",
       "      <td>2021-12-05</td>\n",
       "      <td>BlissArtsSpace!</td>\n",
       "      <td>&lt;b&gt;The space&lt;/b&gt;&lt;br /&gt;HELLO EVERYONE AND THANK...</td>\n",
       "      <td>NaN</td>\n",
       "      <td>https://a0.muscache.com/pictures/2090980c-b68e...</td>\n",
       "      <td>7356</td>\n",
       "      <td>https://www.airbnb.com/users/show/7356</td>\n",
       "      <td>...</td>\n",
       "      <td>4.91</td>\n",
       "      <td>4.47</td>\n",
       "      <td>4.52</td>\n",
       "      <td>NaN</td>\n",
       "      <td>f</td>\n",
       "      <td>2</td>\n",
       "      <td>0</td>\n",
       "      <td>2</td>\n",
       "      <td>0</td>\n",
       "      <td>0.52</td>\n",
       "    </tr>\n",
       "    <tr>\n",
       "      <th>3</th>\n",
       "      <td>5136</td>\n",
       "      <td>https://www.airbnb.com/rooms/5136</td>\n",
       "      <td>20211204143024</td>\n",
       "      <td>2021-12-05</td>\n",
       "      <td>Spacious Brooklyn Duplex, Patio + Garden</td>\n",
       "      <td>We welcome you to stay in our lovely 2 br dupl...</td>\n",
       "      <td>NaN</td>\n",
       "      <td>https://a0.muscache.com/pictures/miso/Hosting-...</td>\n",
       "      <td>7378</td>\n",
       "      <td>https://www.airbnb.com/users/show/7378</td>\n",
       "      <td>...</td>\n",
       "      <td>5.00</td>\n",
       "      <td>4.50</td>\n",
       "      <td>5.00</td>\n",
       "      <td>NaN</td>\n",
       "      <td>f</td>\n",
       "      <td>1</td>\n",
       "      <td>1</td>\n",
       "      <td>0</td>\n",
       "      <td>0</td>\n",
       "      <td>0.02</td>\n",
       "    </tr>\n",
       "    <tr>\n",
       "      <th>4</th>\n",
       "      <td>5178</td>\n",
       "      <td>https://www.airbnb.com/rooms/5178</td>\n",
       "      <td>20211204143024</td>\n",
       "      <td>2021-12-05</td>\n",
       "      <td>Large Furnished Room Near B'way</td>\n",
       "      <td>Please don’t expect the luxury here just a bas...</td>\n",
       "      <td>Theater district, many restaurants around here.</td>\n",
       "      <td>https://a0.muscache.com/pictures/12065/f070997...</td>\n",
       "      <td>8967</td>\n",
       "      <td>https://www.airbnb.com/users/show/8967</td>\n",
       "      <td>...</td>\n",
       "      <td>4.42</td>\n",
       "      <td>4.87</td>\n",
       "      <td>4.36</td>\n",
       "      <td>NaN</td>\n",
       "      <td>f</td>\n",
       "      <td>1</td>\n",
       "      <td>0</td>\n",
       "      <td>1</td>\n",
       "      <td>0</td>\n",
       "      <td>3.68</td>\n",
       "    </tr>\n",
       "  </tbody>\n",
       "</table>\n",
       "<p>5 rows × 74 columns</p>\n",
       "</div>"
      ],
      "text/plain": [
       "     id                        listing_url       scrape_id last_scraped  \\\n",
       "0  2595  https://www.airbnb.com/rooms/2595  20211204143024   2021-12-05   \n",
       "1  3831  https://www.airbnb.com/rooms/3831  20211204143024   2021-12-05   \n",
       "2  5121  https://www.airbnb.com/rooms/5121  20211204143024   2021-12-05   \n",
       "3  5136  https://www.airbnb.com/rooms/5136  20211204143024   2021-12-05   \n",
       "4  5178  https://www.airbnb.com/rooms/5178  20211204143024   2021-12-05   \n",
       "\n",
       "                                                name  \\\n",
       "0                              Skylit Midtown Castle   \n",
       "1  Whole flr w/private bdrm, bath & kitchen(pls r...   \n",
       "2                                    BlissArtsSpace!   \n",
       "3           Spacious Brooklyn Duplex, Patio + Garden   \n",
       "4                   Large Furnished Room Near B'way　   \n",
       "\n",
       "                                         description  \\\n",
       "0  Beautiful, spacious skylit studio in the heart...   \n",
       "1  Enjoy 500 s.f. top floor in 1899 brownstone, w...   \n",
       "2  <b>The space</b><br />HELLO EVERYONE AND THANK...   \n",
       "3  We welcome you to stay in our lovely 2 br dupl...   \n",
       "4  Please don’t expect the luxury here just a bas...   \n",
       "\n",
       "                               neighborhood_overview  \\\n",
       "0  Centrally located in the heart of Manhattan ju...   \n",
       "1  Just the right mix of urban center and local n...   \n",
       "2                                                NaN   \n",
       "3                                                NaN   \n",
       "4    Theater district, many restaurants around here.   \n",
       "\n",
       "                                         picture_url  host_id  \\\n",
       "0  https://a0.muscache.com/pictures/f0813a11-40b2...     2845   \n",
       "1  https://a0.muscache.com/pictures/e49999c2-9fd5...     4869   \n",
       "2  https://a0.muscache.com/pictures/2090980c-b68e...     7356   \n",
       "3  https://a0.muscache.com/pictures/miso/Hosting-...     7378   \n",
       "4  https://a0.muscache.com/pictures/12065/f070997...     8967   \n",
       "\n",
       "                                 host_url  ... review_scores_communication  \\\n",
       "0  https://www.airbnb.com/users/show/2845  ...                        4.79   \n",
       "1  https://www.airbnb.com/users/show/4869  ...                        4.80   \n",
       "2  https://www.airbnb.com/users/show/7356  ...                        4.91   \n",
       "3  https://www.airbnb.com/users/show/7378  ...                        5.00   \n",
       "4  https://www.airbnb.com/users/show/8967  ...                        4.42   \n",
       "\n",
       "  review_scores_location review_scores_value license instant_bookable  \\\n",
       "0                   4.86                4.41     NaN                f   \n",
       "1                   4.71                4.64     NaN                f   \n",
       "2                   4.47                4.52     NaN                f   \n",
       "3                   4.50                5.00     NaN                f   \n",
       "4                   4.87                4.36     NaN                f   \n",
       "\n",
       "  calculated_host_listings_count calculated_host_listings_count_entire_homes  \\\n",
       "0                              3                                           3   \n",
       "1                              1                                           1   \n",
       "2                              2                                           0   \n",
       "3                              1                                           1   \n",
       "4                              1                                           0   \n",
       "\n",
       "  calculated_host_listings_count_private_rooms  \\\n",
       "0                                            0   \n",
       "1                                            0   \n",
       "2                                            2   \n",
       "3                                            0   \n",
       "4                                            1   \n",
       "\n",
       "  calculated_host_listings_count_shared_rooms reviews_per_month  \n",
       "0                                           0              0.33  \n",
       "1                                           0              4.86  \n",
       "2                                           0              0.52  \n",
       "3                                           0              0.02  \n",
       "4                                           0              3.68  \n",
       "\n",
       "[5 rows x 74 columns]"
      ]
     },
     "execution_count": 3,
     "metadata": {},
     "output_type": "execute_result"
    }
   ],
   "source": [
    "df.head()"
   ]
  },
  {
   "cell_type": "code",
   "execution_count": 77,
   "metadata": {},
   "outputs": [
    {
     "data": {
      "text/plain": [
       "(38277, 74)"
      ]
     },
     "execution_count": 77,
     "metadata": {},
     "output_type": "execute_result"
    }
   ],
   "source": [
    "np.shape(dfgz)"
   ]
  },
  {
   "cell_type": "code",
   "execution_count": 4,
   "metadata": {},
   "outputs": [
    {
     "data": {
      "text/html": [
       "<div>\n",
       "<style scoped>\n",
       "    .dataframe tbody tr th:only-of-type {\n",
       "        vertical-align: middle;\n",
       "    }\n",
       "\n",
       "    .dataframe tbody tr th {\n",
       "        vertical-align: top;\n",
       "    }\n",
       "\n",
       "    .dataframe thead th {\n",
       "        text-align: right;\n",
       "    }\n",
       "</style>\n",
       "<table border=\"1\" class=\"dataframe\">\n",
       "  <thead>\n",
       "    <tr style=\"text-align: right;\">\n",
       "      <th></th>\n",
       "      <th>id</th>\n",
       "      <th>scrape_id</th>\n",
       "      <th>host_id</th>\n",
       "      <th>host_listings_count</th>\n",
       "      <th>host_total_listings_count</th>\n",
       "      <th>latitude</th>\n",
       "      <th>longitude</th>\n",
       "      <th>accommodates</th>\n",
       "      <th>bathrooms</th>\n",
       "      <th>bedrooms</th>\n",
       "      <th>...</th>\n",
       "      <th>review_scores_cleanliness</th>\n",
       "      <th>review_scores_checkin</th>\n",
       "      <th>review_scores_communication</th>\n",
       "      <th>review_scores_location</th>\n",
       "      <th>review_scores_value</th>\n",
       "      <th>calculated_host_listings_count</th>\n",
       "      <th>calculated_host_listings_count_entire_homes</th>\n",
       "      <th>calculated_host_listings_count_private_rooms</th>\n",
       "      <th>calculated_host_listings_count_shared_rooms</th>\n",
       "      <th>reviews_per_month</th>\n",
       "    </tr>\n",
       "  </thead>\n",
       "  <tbody>\n",
       "    <tr>\n",
       "      <th>count</th>\n",
       "      <td>3.827700e+04</td>\n",
       "      <td>3.827700e+04</td>\n",
       "      <td>3.827700e+04</td>\n",
       "      <td>38243.000000</td>\n",
       "      <td>38243.000000</td>\n",
       "      <td>38277.000000</td>\n",
       "      <td>38277.000000</td>\n",
       "      <td>38277.000000</td>\n",
       "      <td>0.0</td>\n",
       "      <td>34302.000000</td>\n",
       "      <td>...</td>\n",
       "      <td>28172.000000</td>\n",
       "      <td>28154.000000</td>\n",
       "      <td>28165.000000</td>\n",
       "      <td>28151.000000</td>\n",
       "      <td>28150.000000</td>\n",
       "      <td>38277.000000</td>\n",
       "      <td>38277.000000</td>\n",
       "      <td>38277.000000</td>\n",
       "      <td>38277.000000</td>\n",
       "      <td>28773.000000</td>\n",
       "    </tr>\n",
       "    <tr>\n",
       "      <th>mean</th>\n",
       "      <td>2.962239e+07</td>\n",
       "      <td>2.021120e+13</td>\n",
       "      <td>1.148305e+08</td>\n",
       "      <td>49.020056</td>\n",
       "      <td>49.020056</td>\n",
       "      <td>40.729206</td>\n",
       "      <td>-73.948967</td>\n",
       "      <td>2.792094</td>\n",
       "      <td>NaN</td>\n",
       "      <td>1.323567</td>\n",
       "      <td>...</td>\n",
       "      <td>4.612408</td>\n",
       "      <td>4.813884</td>\n",
       "      <td>4.807454</td>\n",
       "      <td>4.750307</td>\n",
       "      <td>4.646892</td>\n",
       "      <td>17.747655</td>\n",
       "      <td>8.042637</td>\n",
       "      <td>9.593934</td>\n",
       "      <td>0.047966</td>\n",
       "      <td>1.721019</td>\n",
       "    </tr>\n",
       "    <tr>\n",
       "      <th>std</th>\n",
       "      <td>1.742239e+07</td>\n",
       "      <td>3.293012e+00</td>\n",
       "      <td>1.299194e+08</td>\n",
       "      <td>312.947661</td>\n",
       "      <td>312.947661</td>\n",
       "      <td>0.055752</td>\n",
       "      <td>0.050759</td>\n",
       "      <td>1.869736</td>\n",
       "      <td>NaN</td>\n",
       "      <td>0.708327</td>\n",
       "      <td>...</td>\n",
       "      <td>0.575452</td>\n",
       "      <td>0.439260</td>\n",
       "      <td>0.465544</td>\n",
       "      <td>0.416101</td>\n",
       "      <td>0.518905</td>\n",
       "      <td>59.150451</td>\n",
       "      <td>34.977178</td>\n",
       "      <td>43.310123</td>\n",
       "      <td>0.426789</td>\n",
       "      <td>4.399826</td>\n",
       "    </tr>\n",
       "    <tr>\n",
       "      <th>min</th>\n",
       "      <td>2.595000e+03</td>\n",
       "      <td>2.021120e+13</td>\n",
       "      <td>2.438000e+03</td>\n",
       "      <td>0.000000</td>\n",
       "      <td>0.000000</td>\n",
       "      <td>40.504560</td>\n",
       "      <td>-74.249840</td>\n",
       "      <td>0.000000</td>\n",
       "      <td>NaN</td>\n",
       "      <td>1.000000</td>\n",
       "      <td>...</td>\n",
       "      <td>0.000000</td>\n",
       "      <td>0.000000</td>\n",
       "      <td>0.000000</td>\n",
       "      <td>0.000000</td>\n",
       "      <td>0.000000</td>\n",
       "      <td>1.000000</td>\n",
       "      <td>0.000000</td>\n",
       "      <td>0.000000</td>\n",
       "      <td>0.000000</td>\n",
       "      <td>0.010000</td>\n",
       "    </tr>\n",
       "    <tr>\n",
       "      <th>25%</th>\n",
       "      <td>1.341048e+07</td>\n",
       "      <td>2.021120e+13</td>\n",
       "      <td>1.139462e+07</td>\n",
       "      <td>1.000000</td>\n",
       "      <td>1.000000</td>\n",
       "      <td>40.689260</td>\n",
       "      <td>-73.983270</td>\n",
       "      <td>2.000000</td>\n",
       "      <td>NaN</td>\n",
       "      <td>1.000000</td>\n",
       "      <td>...</td>\n",
       "      <td>4.500000</td>\n",
       "      <td>4.800000</td>\n",
       "      <td>4.810000</td>\n",
       "      <td>4.670000</td>\n",
       "      <td>4.550000</td>\n",
       "      <td>1.000000</td>\n",
       "      <td>0.000000</td>\n",
       "      <td>0.000000</td>\n",
       "      <td>0.000000</td>\n",
       "      <td>0.120000</td>\n",
       "    </tr>\n",
       "    <tr>\n",
       "      <th>50%</th>\n",
       "      <td>3.081269e+07</td>\n",
       "      <td>2.021120e+13</td>\n",
       "      <td>5.005297e+07</td>\n",
       "      <td>1.000000</td>\n",
       "      <td>1.000000</td>\n",
       "      <td>40.725180</td>\n",
       "      <td>-73.954770</td>\n",
       "      <td>2.000000</td>\n",
       "      <td>NaN</td>\n",
       "      <td>1.000000</td>\n",
       "      <td>...</td>\n",
       "      <td>4.800000</td>\n",
       "      <td>4.960000</td>\n",
       "      <td>4.970000</td>\n",
       "      <td>4.880000</td>\n",
       "      <td>4.780000</td>\n",
       "      <td>1.000000</td>\n",
       "      <td>1.000000</td>\n",
       "      <td>0.000000</td>\n",
       "      <td>0.000000</td>\n",
       "      <td>0.480000</td>\n",
       "    </tr>\n",
       "    <tr>\n",
       "      <th>75%</th>\n",
       "      <td>4.642855e+07</td>\n",
       "      <td>2.021120e+13</td>\n",
       "      <td>2.002395e+08</td>\n",
       "      <td>3.000000</td>\n",
       "      <td>3.000000</td>\n",
       "      <td>40.762680</td>\n",
       "      <td>-73.930430</td>\n",
       "      <td>4.000000</td>\n",
       "      <td>NaN</td>\n",
       "      <td>1.000000</td>\n",
       "      <td>...</td>\n",
       "      <td>5.000000</td>\n",
       "      <td>5.000000</td>\n",
       "      <td>5.000000</td>\n",
       "      <td>5.000000</td>\n",
       "      <td>5.000000</td>\n",
       "      <td>3.000000</td>\n",
       "      <td>1.000000</td>\n",
       "      <td>1.000000</td>\n",
       "      <td>0.000000</td>\n",
       "      <td>1.780000</td>\n",
       "    </tr>\n",
       "    <tr>\n",
       "      <th>max</th>\n",
       "      <td>5.366510e+07</td>\n",
       "      <td>2.021120e+13</td>\n",
       "      <td>4.344080e+08</td>\n",
       "      <td>3750.000000</td>\n",
       "      <td>3750.000000</td>\n",
       "      <td>40.914020</td>\n",
       "      <td>-73.710870</td>\n",
       "      <td>16.000000</td>\n",
       "      <td>NaN</td>\n",
       "      <td>16.000000</td>\n",
       "      <td>...</td>\n",
       "      <td>5.000000</td>\n",
       "      <td>5.000000</td>\n",
       "      <td>5.000000</td>\n",
       "      <td>5.000000</td>\n",
       "      <td>5.000000</td>\n",
       "      <td>421.000000</td>\n",
       "      <td>308.000000</td>\n",
       "      <td>359.000000</td>\n",
       "      <td>8.000000</td>\n",
       "      <td>141.000000</td>\n",
       "    </tr>\n",
       "  </tbody>\n",
       "</table>\n",
       "<p>8 rows × 39 columns</p>\n",
       "</div>"
      ],
      "text/plain": [
       "                 id     scrape_id       host_id  host_listings_count  \\\n",
       "count  3.827700e+04  3.827700e+04  3.827700e+04         38243.000000   \n",
       "mean   2.962239e+07  2.021120e+13  1.148305e+08            49.020056   \n",
       "std    1.742239e+07  3.293012e+00  1.299194e+08           312.947661   \n",
       "min    2.595000e+03  2.021120e+13  2.438000e+03             0.000000   \n",
       "25%    1.341048e+07  2.021120e+13  1.139462e+07             1.000000   \n",
       "50%    3.081269e+07  2.021120e+13  5.005297e+07             1.000000   \n",
       "75%    4.642855e+07  2.021120e+13  2.002395e+08             3.000000   \n",
       "max    5.366510e+07  2.021120e+13  4.344080e+08          3750.000000   \n",
       "\n",
       "       host_total_listings_count      latitude     longitude  accommodates  \\\n",
       "count               38243.000000  38277.000000  38277.000000  38277.000000   \n",
       "mean                   49.020056     40.729206    -73.948967      2.792094   \n",
       "std                   312.947661      0.055752      0.050759      1.869736   \n",
       "min                     0.000000     40.504560    -74.249840      0.000000   \n",
       "25%                     1.000000     40.689260    -73.983270      2.000000   \n",
       "50%                     1.000000     40.725180    -73.954770      2.000000   \n",
       "75%                     3.000000     40.762680    -73.930430      4.000000   \n",
       "max                  3750.000000     40.914020    -73.710870     16.000000   \n",
       "\n",
       "       bathrooms      bedrooms  ...  review_scores_cleanliness  \\\n",
       "count        0.0  34302.000000  ...               28172.000000   \n",
       "mean         NaN      1.323567  ...                   4.612408   \n",
       "std          NaN      0.708327  ...                   0.575452   \n",
       "min          NaN      1.000000  ...                   0.000000   \n",
       "25%          NaN      1.000000  ...                   4.500000   \n",
       "50%          NaN      1.000000  ...                   4.800000   \n",
       "75%          NaN      1.000000  ...                   5.000000   \n",
       "max          NaN     16.000000  ...                   5.000000   \n",
       "\n",
       "       review_scores_checkin  review_scores_communication  \\\n",
       "count           28154.000000                 28165.000000   \n",
       "mean                4.813884                     4.807454   \n",
       "std                 0.439260                     0.465544   \n",
       "min                 0.000000                     0.000000   \n",
       "25%                 4.800000                     4.810000   \n",
       "50%                 4.960000                     4.970000   \n",
       "75%                 5.000000                     5.000000   \n",
       "max                 5.000000                     5.000000   \n",
       "\n",
       "       review_scores_location  review_scores_value  \\\n",
       "count            28151.000000         28150.000000   \n",
       "mean                 4.750307             4.646892   \n",
       "std                  0.416101             0.518905   \n",
       "min                  0.000000             0.000000   \n",
       "25%                  4.670000             4.550000   \n",
       "50%                  4.880000             4.780000   \n",
       "75%                  5.000000             5.000000   \n",
       "max                  5.000000             5.000000   \n",
       "\n",
       "       calculated_host_listings_count  \\\n",
       "count                    38277.000000   \n",
       "mean                        17.747655   \n",
       "std                         59.150451   \n",
       "min                          1.000000   \n",
       "25%                          1.000000   \n",
       "50%                          1.000000   \n",
       "75%                          3.000000   \n",
       "max                        421.000000   \n",
       "\n",
       "       calculated_host_listings_count_entire_homes  \\\n",
       "count                                 38277.000000   \n",
       "mean                                      8.042637   \n",
       "std                                      34.977178   \n",
       "min                                       0.000000   \n",
       "25%                                       0.000000   \n",
       "50%                                       1.000000   \n",
       "75%                                       1.000000   \n",
       "max                                     308.000000   \n",
       "\n",
       "       calculated_host_listings_count_private_rooms  \\\n",
       "count                                  38277.000000   \n",
       "mean                                       9.593934   \n",
       "std                                       43.310123   \n",
       "min                                        0.000000   \n",
       "25%                                        0.000000   \n",
       "50%                                        0.000000   \n",
       "75%                                        1.000000   \n",
       "max                                      359.000000   \n",
       "\n",
       "       calculated_host_listings_count_shared_rooms  reviews_per_month  \n",
       "count                                 38277.000000       28773.000000  \n",
       "mean                                      0.047966           1.721019  \n",
       "std                                       0.426789           4.399826  \n",
       "min                                       0.000000           0.010000  \n",
       "25%                                       0.000000           0.120000  \n",
       "50%                                       0.000000           0.480000  \n",
       "75%                                       0.000000           1.780000  \n",
       "max                                       8.000000         141.000000  \n",
       "\n",
       "[8 rows x 39 columns]"
      ]
     },
     "execution_count": 4,
     "metadata": {},
     "output_type": "execute_result"
    }
   ],
   "source": [
    "df.describe()"
   ]
  },
  {
   "cell_type": "markdown",
   "metadata": {},
   "source": [
    "# Prepare the data"
   ]
  },
  {
   "cell_type": "code",
   "execution_count": 13,
   "metadata": {},
   "outputs": [],
   "source": [
    "null_table = df.isnull().sum()"
   ]
  },
  {
   "cell_type": "code",
   "execution_count": 26,
   "metadata": {},
   "outputs": [
    {
     "data": {
      "text/plain": [
       "bathrooms                       38277\n",
       "calendar_updated                38277\n",
       "license                         38276\n",
       "host_response_time              17193\n",
       "host_response_rate              17193\n",
       "                                ...  \n",
       "latitude                            0\n",
       "neighbourhood_group_cleansed        0\n",
       "neighbourhood_cleansed              0\n",
       "availability_60                     0\n",
       "id                                  0\n",
       "Length: 74, dtype: int64"
      ]
     },
     "execution_count": 26,
     "metadata": {},
     "output_type": "execute_result"
    }
   ],
   "source": [
    "null_table.sort_values(ascending=False)"
   ]
  },
  {
   "cell_type": "code",
   "execution_count": 30,
   "metadata": {},
   "outputs": [
    {
     "data": {
      "text/plain": [
       "38277"
      ]
     },
     "execution_count": 30,
     "metadata": {},
     "output_type": "execute_result"
    }
   ],
   "source": [
    "null_table.bathrooms"
   ]
  },
  {
   "cell_type": "code",
   "execution_count": 67,
   "metadata": {},
   "outputs": [],
   "source": [
    "## Delete the useless variable(many missing values or meaningless to the problem)\n",
    "df2 = df.drop(columns=['bathrooms','calendar_updated', 'license',\n",
    "                      'listing_url','scrape_id','last_scraped',\n",
    "                      'picture_url','host_url','host_location','host_about',\n",
    "                      'host_thumbnail_url','host_picture_url',\n",
    "                      'neighbourhood','neighborhood_overview',\n",
    "                      'first_review', 'last_review'])\n",
    "\n",
    "## bathrooms_text need to be transformed"
   ]
  },
  {
   "cell_type": "code",
   "execution_count": 68,
   "metadata": {},
   "outputs": [
    {
     "data": {
      "text/plain": [
       "Index(['id', 'name', 'description', 'host_id', 'host_name', 'host_since',\n",
       "       'host_response_time', 'host_response_rate', 'host_acceptance_rate',\n",
       "       'host_is_superhost', 'host_neighbourhood', 'host_listings_count',\n",
       "       'host_total_listings_count', 'host_verifications',\n",
       "       'host_has_profile_pic', 'host_identity_verified',\n",
       "       'neighbourhood_cleansed', 'neighbourhood_group_cleansed', 'latitude',\n",
       "       'longitude', 'property_type', 'room_type', 'accommodates',\n",
       "       'bathrooms_text', 'bedrooms', 'beds', 'amenities', 'price',\n",
       "       'minimum_nights', 'maximum_nights', 'minimum_minimum_nights',\n",
       "       'maximum_minimum_nights', 'minimum_maximum_nights',\n",
       "       'maximum_maximum_nights', 'minimum_nights_avg_ntm',\n",
       "       'maximum_nights_avg_ntm', 'has_availability', 'availability_30',\n",
       "       'availability_60', 'availability_90', 'availability_365',\n",
       "       'calendar_last_scraped', 'number_of_reviews', 'number_of_reviews_ltm',\n",
       "       'number_of_reviews_l30d', 'first_review', 'last_review',\n",
       "       'review_scores_rating', 'review_scores_accuracy',\n",
       "       'review_scores_cleanliness', 'review_scores_checkin',\n",
       "       'review_scores_communication', 'review_scores_location',\n",
       "       'review_scores_value', 'instant_bookable',\n",
       "       'calculated_host_listings_count',\n",
       "       'calculated_host_listings_count_entire_homes',\n",
       "       'calculated_host_listings_count_private_rooms',\n",
       "       'calculated_host_listings_count_shared_rooms', 'reviews_per_month'],\n",
       "      dtype='object')"
      ]
     },
     "execution_count": 68,
     "metadata": {},
     "output_type": "execute_result"
    }
   ],
   "source": [
    "df2.columns"
   ]
  },
  {
   "cell_type": "code",
   "execution_count": 103,
   "metadata": {},
   "outputs": [],
   "source": [
    "## delete the % in rate variable\n",
    "df2.host_response_rate = df2['host_response_rate'].str.strip(\"%\").astype(float)"
   ]
  },
  {
   "cell_type": "code",
   "execution_count": 64,
   "metadata": {},
   "outputs": [],
   "source": [
    "null_table2 = df2.isnull().sum().sort_values(ascending=False)"
   ]
  },
  {
   "cell_type": "code",
   "execution_count": 65,
   "metadata": {},
   "outputs": [
    {
     "data": {
      "text/plain": [
       "host_response_rate       17193\n",
       "host_response_time       17193\n",
       "host_acceptance_rate     16486\n",
       "neighborhood_overview    15627\n",
       "review_scores_value      10127\n",
       "                         ...  \n",
       "minimum_nights               0\n",
       "price                        0\n",
       "amenities                    0\n",
       "accommodates                 0\n",
       "id                           0\n",
       "Length: 61, dtype: int64"
      ]
     },
     "execution_count": 65,
     "metadata": {},
     "output_type": "execute_result"
    }
   ],
   "source": [
    "null_table2"
   ]
  },
  {
   "cell_type": "code",
   "execution_count": 80,
   "metadata": {},
   "outputs": [],
   "source": [
    "import seaborn as sns"
   ]
  },
  {
   "cell_type": "code",
   "execution_count": 104,
   "metadata": {},
   "outputs": [
    {
     "data": {
      "image/png": "[encoded data removed]",
      "text/plain": [
       "<Figure size 1080x864 with 2 Axes>"
      ]
     },
     "metadata": {
      "needs_background": "light"
     },
     "output_type": "display_data"
    }
   ],
   "source": [
    "corr = df2.corr()\n",
    "fig,ax = plt.subplots(figsize=(15,12))\n",
    "sns.heatmap(corr, annot=False)\n",
    "plt.show()"
   ]
  },
  {
   "cell_type": "code",
   "execution_count": 84,
   "metadata": {},
   "outputs": [
    {
     "data": {
      "text/plain": [
       "(38277, 60)"
      ]
     },
     "execution_count": 84,
     "metadata": {},
     "output_type": "execute_result"
    }
   ],
   "source": [
    "np.shape(df2)"
   ]
  },
  {
   "cell_type": "code",
   "execution_count": 105,
   "metadata": {},
   "outputs": [
    {
     "data": {
      "text/plain": [
       "<matplotlib.axes._subplots.AxesSubplot at 0x7fbcdf8d4950>"
      ]
     },
     "execution_count": 105,
     "metadata": {},
     "output_type": "execute_result"
    },
    {
     "data": {
      "image/png": "[encoded data removed]",
      "text/plain": [
       "<Figure size 1080x576 with 1 Axes>"
      ]
     },
     "metadata": {
      "needs_background": "light"
     },
     "output_type": "display_data"
    }
   ],
   "source": [
    "plt.figure(figsize=(15,8))\n",
    "sns.histplot(x=df2.host_response_rate,kde=True)"
   ]
  },
  {
   "cell_type": "code",
   "execution_count": 111,
   "metadata": {},
   "outputs": [],
   "source": [
    "# drop rows with nan in \"host_response_rate/time\" feature\n",
    "df2.dropna(subset=['host_response_rate','host_response_time'],inplace=True)"
   ]
  },
  {
   "cell_type": "code",
   "execution_count": 112,
   "metadata": {},
   "outputs": [
    {
     "data": {
      "text/plain": [
       "(21084, 60)"
      ]
     },
     "execution_count": 112,
     "metadata": {},
     "output_type": "execute_result"
    }
   ],
   "source": [
    "np.shape(df2)"
   ]
  },
  {
   "cell_type": "code",
   "execution_count": 113,
   "metadata": {},
   "outputs": [
    {
     "data": {
      "text/plain": [
       "id                                                 0\n",
       "name                                               0\n",
       "description                                      652\n",
       "host_id                                            0\n",
       "host_name                                          0\n",
       "host_since                                         0\n",
       "host_response_time                                 0\n",
       "host_response_rate                                 0\n",
       "host_acceptance_rate                             711\n",
       "host_is_superhost                                  0\n",
       "host_neighbourhood                              4305\n",
       "host_listings_count                                0\n",
       "host_total_listings_count                          0\n",
       "host_verifications                                 0\n",
       "host_has_profile_pic                               0\n",
       "host_identity_verified                             0\n",
       "neighbourhood_cleansed                             0\n",
       "neighbourhood_group_cleansed                       0\n",
       "latitude                                           0\n",
       "longitude                                          0\n",
       "property_type                                      0\n",
       "room_type                                          0\n",
       "accommodates                                       0\n",
       "bathrooms_text                                    58\n",
       "bedrooms                                        2330\n",
       "beds                                            1438\n",
       "amenities                                          0\n",
       "price                                              0\n",
       "minimum_nights                                     0\n",
       "maximum_nights                                     0\n",
       "minimum_minimum_nights                            14\n",
       "maximum_minimum_nights                            14\n",
       "minimum_maximum_nights                            14\n",
       "maximum_maximum_nights                            14\n",
       "minimum_nights_avg_ntm                            14\n",
       "maximum_nights_avg_ntm                            14\n",
       "has_availability                                   0\n",
       "availability_30                                    0\n",
       "availability_60                                    0\n",
       "availability_90                                    0\n",
       "availability_365                                   0\n",
       "calendar_last_scraped                              0\n",
       "number_of_reviews                                  0\n",
       "number_of_reviews_ltm                              0\n",
       "number_of_reviews_l30d                             0\n",
       "first_review                                    4769\n",
       "last_review                                     4769\n",
       "review_scores_rating                            4769\n",
       "review_scores_accuracy                          4844\n",
       "review_scores_cleanliness                       4844\n",
       "review_scores_checkin                           4844\n",
       "review_scores_communication                     4844\n",
       "review_scores_location                          4844\n",
       "review_scores_value                             4844\n",
       "instant_bookable                                   0\n",
       "calculated_host_listings_count                     0\n",
       "calculated_host_listings_count_entire_homes        0\n",
       "calculated_host_listings_count_private_rooms       0\n",
       "calculated_host_listings_count_shared_rooms        0\n",
       "reviews_per_month                               4769\n",
       "dtype: int64"
      ]
     },
     "execution_count": 113,
     "metadata": {},
     "output_type": "execute_result"
    }
   ],
   "source": [
    "df2.isna().sum()"
   ]
  },
  {
   "cell_type": "code",
   "execution_count": 100,
   "metadata": {},
   "outputs": [
    {
     "data": {
      "text/plain": [
       "count     21084\n",
       "unique       88\n",
       "top        100%\n",
       "freq      13299\n",
       "Name: host_response_rate, dtype: object"
      ]
     },
     "execution_count": 100,
     "metadata": {},
     "output_type": "execute_result"
    }
   ],
   "source": [
    "df2.dropna(subset=['host_acceptance_rate','host_response_time'],inplace=True)\n",
    "df2.isna().sum()"
   ]
  },
  {
   "cell_type": "code",
   "execution_count": 91,
   "metadata": {},
   "outputs": [
    {
     "data": {
      "text/plain": [
       "<matplotlib.axes._subplots.AxesSubplot at 0x7fbcdf2b4410>"
      ]
     },
     "execution_count": 91,
     "metadata": {},
     "output_type": "execute_result"
    },
    {
     "data": {
      "image/png": "[encoded data removed]",
      "text/plain": [
       "<Figure size 1080x576 with 1 Axes>"
      ]
     },
     "metadata": {
      "needs_background": "light"
     },
     "output_type": "display_data"
    }
   ],
   "source": [
    "plt.figure(figsize=(15,8))\n",
    "sns.histplot(x=df2.host_response_time,kde=True)"
   ]
  },
  {
   "cell_type": "markdown",
   "metadata": {},
   "source": [
    "we decided to separate the data into those with rewiew and without review"
   ]
  },
  {
   "cell_type": "code",
   "execution_count": 117,
   "metadata": {},
   "outputs": [
    {
     "data": {
      "text/plain": [
       "(4769, 60)"
      ]
     },
     "execution_count": 117,
     "metadata": {},
     "output_type": "execute_result"
    }
   ],
   "source": [
    "df_without_review = df2[df2.first_review.isna()]\n",
    "np.shape(df_without_review)"
   ]
  },
  {
   "cell_type": "code",
   "execution_count": 120,
   "metadata": {},
   "outputs": [
    {
     "data": {
      "text/plain": [
       "(16315, 60)"
      ]
     },
     "execution_count": 120,
     "metadata": {},
     "output_type": "execute_result"
    }
   ],
   "source": [
    "df_with_review = df2[-df2.first_review.isna()]\n",
    "np.shape(df_with_review)"
   ]
  },
  {
   "cell_type": "markdown",
   "metadata": {},
   "source": [
    "## deal with missing value and variables"
   ]
  },
  {
   "cell_type": "markdown",
   "metadata": {},
   "source": [
    "### df_without_review"
   ]
  },
  {
   "cell_type": "code",
   "execution_count": 127,
   "metadata": {
    "collapsed": true
   },
   "outputs": [
    {
     "ename": "KeyError",
     "evalue": "\"['first_review' 'last_review' 'review_scores_rating'\\n 'review_scores_rating' 'review_scores_accuracy'\\n 'review_scores_cleanliness' 'review_scores_checkin'\\n 'review_scores_communication' 'review_scores_location'\\n 'review_scores_value' 'reviews_per_month'] not found in axis\"",
     "output_type": "error",
     "traceback": [
      "\u001b[0;31m---------------------------------------------------------------------------\u001b[0m",
      "\u001b[0;31mKeyError\u001b[0m                                  Traceback (most recent call last)",
      "\u001b[0;32m<ipython-input-127-021c1d8e1b08>\u001b[0m in \u001b[0;36m<module>\u001b[0;34m\u001b[0m\n\u001b[1;32m      5\u001b[0m                                                     \u001b[0;34m'review_scores_value'\u001b[0m\u001b[0;34m,\u001b[0m\u001b[0;34m'reviews_per_month'\u001b[0m\u001b[0;34m,\u001b[0m\u001b[0;34m\u001b[0m\u001b[0;34m\u001b[0m\u001b[0m\n\u001b[1;32m      6\u001b[0m                                                    \u001b[0;34m'number_of_reviews'\u001b[0m\u001b[0;34m,\u001b[0m \u001b[0;34m'number_of_reviews_ltm'\u001b[0m\u001b[0;34m,\u001b[0m\u001b[0;34m\u001b[0m\u001b[0;34m\u001b[0m\u001b[0m\n\u001b[0;32m----> 7\u001b[0;31m                                                     'number_of_reviews_l30d'])\n\u001b[0m\u001b[1;32m      8\u001b[0m \u001b[0mnp\u001b[0m\u001b[0;34m.\u001b[0m\u001b[0mshape\u001b[0m\u001b[0;34m(\u001b[0m\u001b[0mdf_without_review\u001b[0m\u001b[0;34m)\u001b[0m\u001b[0;34m\u001b[0m\u001b[0;34m\u001b[0m\u001b[0m\n",
      "\u001b[0;32m/opt/anaconda3/lib/python3.7/site-packages/pandas/core/frame.py\u001b[0m in \u001b[0;36mdrop\u001b[0;34m(self, labels, axis, index, columns, level, inplace, errors)\u001b[0m\n\u001b[1;32m   3995\u001b[0m             \u001b[0mlevel\u001b[0m\u001b[0;34m=\u001b[0m\u001b[0mlevel\u001b[0m\u001b[0;34m,\u001b[0m\u001b[0;34m\u001b[0m\u001b[0;34m\u001b[0m\u001b[0m\n\u001b[1;32m   3996\u001b[0m             \u001b[0minplace\u001b[0m\u001b[0;34m=\u001b[0m\u001b[0minplace\u001b[0m\u001b[0;34m,\u001b[0m\u001b[0;34m\u001b[0m\u001b[0;34m\u001b[0m\u001b[0m\n\u001b[0;32m-> 3997\u001b[0;31m             \u001b[0merrors\u001b[0m\u001b[0;34m=\u001b[0m\u001b[0merrors\u001b[0m\u001b[0;34m,\u001b[0m\u001b[0;34m\u001b[0m\u001b[0;34m\u001b[0m\u001b[0m\n\u001b[0m\u001b[1;32m   3998\u001b[0m         )\n\u001b[1;32m   3999\u001b[0m \u001b[0;34m\u001b[0m\u001b[0m\n",
      "\u001b[0;32m/opt/anaconda3/lib/python3.7/site-packages/pandas/core/generic.py\u001b[0m in \u001b[0;36mdrop\u001b[0;34m(self, labels, axis, index, columns, level, inplace, errors)\u001b[0m\n\u001b[1;32m   3934\u001b[0m         \u001b[0;32mfor\u001b[0m \u001b[0maxis\u001b[0m\u001b[0;34m,\u001b[0m \u001b[0mlabels\u001b[0m \u001b[0;32min\u001b[0m \u001b[0maxes\u001b[0m\u001b[0;34m.\u001b[0m\u001b[0mitems\u001b[0m\u001b[0;34m(\u001b[0m\u001b[0;34m)\u001b[0m\u001b[0;34m:\u001b[0m\u001b[0;34m\u001b[0m\u001b[0;34m\u001b[0m\u001b[0m\n\u001b[1;32m   3935\u001b[0m             \u001b[0;32mif\u001b[0m \u001b[0mlabels\u001b[0m \u001b[0;32mis\u001b[0m \u001b[0;32mnot\u001b[0m \u001b[0;32mNone\u001b[0m\u001b[0;34m:\u001b[0m\u001b[0;34m\u001b[0m\u001b[0;34m\u001b[0m\u001b[0m\n\u001b[0;32m-> 3936\u001b[0;31m                 \u001b[0mobj\u001b[0m \u001b[0;34m=\u001b[0m \u001b[0mobj\u001b[0m\u001b[0;34m.\u001b[0m\u001b[0m_drop_axis\u001b[0m\u001b[0;34m(\u001b[0m\u001b[0mlabels\u001b[0m\u001b[0;34m,\u001b[0m \u001b[0maxis\u001b[0m\u001b[0;34m,\u001b[0m \u001b[0mlevel\u001b[0m\u001b[0;34m=\u001b[0m\u001b[0mlevel\u001b[0m\u001b[0;34m,\u001b[0m \u001b[0merrors\u001b[0m\u001b[0;34m=\u001b[0m\u001b[0merrors\u001b[0m\u001b[0;34m)\u001b[0m\u001b[0;34m\u001b[0m\u001b[0;34m\u001b[0m\u001b[0m\n\u001b[0m\u001b[1;32m   3937\u001b[0m \u001b[0;34m\u001b[0m\u001b[0m\n\u001b[1;32m   3938\u001b[0m         \u001b[0;32mif\u001b[0m \u001b[0minplace\u001b[0m\u001b[0;34m:\u001b[0m\u001b[0;34m\u001b[0m\u001b[0;34m\u001b[0m\u001b[0m\n",
      "\u001b[0;32m/opt/anaconda3/lib/python3.7/site-packages/pandas/core/generic.py\u001b[0m in \u001b[0;36m_drop_axis\u001b[0;34m(self, labels, axis, level, errors)\u001b[0m\n\u001b[1;32m   3968\u001b[0m                 \u001b[0mnew_axis\u001b[0m \u001b[0;34m=\u001b[0m \u001b[0maxis\u001b[0m\u001b[0;34m.\u001b[0m\u001b[0mdrop\u001b[0m\u001b[0;34m(\u001b[0m\u001b[0mlabels\u001b[0m\u001b[0;34m,\u001b[0m \u001b[0mlevel\u001b[0m\u001b[0;34m=\u001b[0m\u001b[0mlevel\u001b[0m\u001b[0;34m,\u001b[0m \u001b[0merrors\u001b[0m\u001b[0;34m=\u001b[0m\u001b[0merrors\u001b[0m\u001b[0;34m)\u001b[0m\u001b[0;34m\u001b[0m\u001b[0;34m\u001b[0m\u001b[0m\n\u001b[1;32m   3969\u001b[0m             \u001b[0;32melse\u001b[0m\u001b[0;34m:\u001b[0m\u001b[0;34m\u001b[0m\u001b[0;34m\u001b[0m\u001b[0m\n\u001b[0;32m-> 3970\u001b[0;31m                 \u001b[0mnew_axis\u001b[0m \u001b[0;34m=\u001b[0m \u001b[0maxis\u001b[0m\u001b[0;34m.\u001b[0m\u001b[0mdrop\u001b[0m\u001b[0;34m(\u001b[0m\u001b[0mlabels\u001b[0m\u001b[0;34m,\u001b[0m \u001b[0merrors\u001b[0m\u001b[0;34m=\u001b[0m\u001b[0merrors\u001b[0m\u001b[0;34m)\u001b[0m\u001b[0;34m\u001b[0m\u001b[0;34m\u001b[0m\u001b[0m\n\u001b[0m\u001b[1;32m   3971\u001b[0m             \u001b[0mresult\u001b[0m \u001b[0;34m=\u001b[0m \u001b[0mself\u001b[0m\u001b[0;34m.\u001b[0m\u001b[0mreindex\u001b[0m\u001b[0;34m(\u001b[0m\u001b[0;34m**\u001b[0m\u001b[0;34m{\u001b[0m\u001b[0maxis_name\u001b[0m\u001b[0;34m:\u001b[0m \u001b[0mnew_axis\u001b[0m\u001b[0;34m}\u001b[0m\u001b[0;34m)\u001b[0m\u001b[0;34m\u001b[0m\u001b[0;34m\u001b[0m\u001b[0m\n\u001b[1;32m   3972\u001b[0m \u001b[0;34m\u001b[0m\u001b[0m\n",
      "\u001b[0;32m/opt/anaconda3/lib/python3.7/site-packages/pandas/core/indexes/base.py\u001b[0m in \u001b[0;36mdrop\u001b[0;34m(self, labels, errors)\u001b[0m\n\u001b[1;32m   5016\u001b[0m         \u001b[0;32mif\u001b[0m \u001b[0mmask\u001b[0m\u001b[0;34m.\u001b[0m\u001b[0many\u001b[0m\u001b[0;34m(\u001b[0m\u001b[0;34m)\u001b[0m\u001b[0;34m:\u001b[0m\u001b[0;34m\u001b[0m\u001b[0;34m\u001b[0m\u001b[0m\n\u001b[1;32m   5017\u001b[0m             \u001b[0;32mif\u001b[0m \u001b[0merrors\u001b[0m \u001b[0;34m!=\u001b[0m \u001b[0;34m\"ignore\"\u001b[0m\u001b[0;34m:\u001b[0m\u001b[0;34m\u001b[0m\u001b[0;34m\u001b[0m\u001b[0m\n\u001b[0;32m-> 5018\u001b[0;31m                 \u001b[0;32mraise\u001b[0m \u001b[0mKeyError\u001b[0m\u001b[0;34m(\u001b[0m\u001b[0;34mf\"{labels[mask]} not found in axis\"\u001b[0m\u001b[0;34m)\u001b[0m\u001b[0;34m\u001b[0m\u001b[0;34m\u001b[0m\u001b[0m\n\u001b[0m\u001b[1;32m   5019\u001b[0m             \u001b[0mindexer\u001b[0m \u001b[0;34m=\u001b[0m \u001b[0mindexer\u001b[0m\u001b[0;34m[\u001b[0m\u001b[0;34m~\u001b[0m\u001b[0mmask\u001b[0m\u001b[0;34m]\u001b[0m\u001b[0;34m\u001b[0m\u001b[0;34m\u001b[0m\u001b[0m\n\u001b[1;32m   5020\u001b[0m         \u001b[0;32mreturn\u001b[0m \u001b[0mself\u001b[0m\u001b[0;34m.\u001b[0m\u001b[0mdelete\u001b[0m\u001b[0;34m(\u001b[0m\u001b[0mindexer\u001b[0m\u001b[0;34m)\u001b[0m\u001b[0;34m\u001b[0m\u001b[0;34m\u001b[0m\u001b[0m\n",
      "\u001b[0;31mKeyError\u001b[0m: \"['first_review' 'last_review' 'review_scores_rating'\\n 'review_scores_rating' 'review_scores_accuracy'\\n 'review_scores_cleanliness' 'review_scores_checkin'\\n 'review_scores_communication' 'review_scores_location'\\n 'review_scores_value' 'reviews_per_month'] not found in axis\""
     ]
    }
   ],
   "source": [
    "df_without_review = df_without_review.drop(columns=['first_review','last_review', 'review_scores_rating',\n",
    "                                                    'review_scores_rating', 'review_scores_accuracy',\n",
    "                                                    'review_scores_cleanliness', 'review_scores_checkin',\n",
    "                                                    'review_scores_communication', 'review_scores_location',\n",
    "                                                    'review_scores_value','reviews_per_month'])"
   ]
  },
  {
   "cell_type": "code",
   "execution_count": 128,
   "metadata": {},
   "outputs": [
    {
     "data": {
      "text/plain": [
       "(4769, 47)"
      ]
     },
     "execution_count": 128,
     "metadata": {},
     "output_type": "execute_result"
    }
   ],
   "source": [
    "df_without_review = df_without_review.drop(columns=['number_of_reviews', 'number_of_reviews_ltm',\n",
    "                                                    'number_of_reviews_l30d'])\n",
    "np.shape(df_without_review)"
   ]
  },
  {
   "cell_type": "code",
   "execution_count": 135,
   "metadata": {},
   "outputs": [
    {
     "data": {
      "text/plain": [
       "(4769, 42)"
      ]
     },
     "execution_count": 135,
     "metadata": {},
     "output_type": "execute_result"
    }
   ],
   "source": [
    "df_without_review = df_without_review.drop(columns=['id', 'host_id',\n",
    "                                                    'name','description','host_since'])\n",
    "np.shape(df_without_review)"
   ]
  },
  {
   "cell_type": "code",
   "execution_count": 138,
   "metadata": {},
   "outputs": [],
   "source": [
    "df_without_review = df_without_review.drop(columns=['host_neighbourhood'])"
   ]
  },
  {
   "cell_type": "code",
   "execution_count": 139,
   "metadata": {},
   "outputs": [
    {
     "data": {
      "text/html": [
       "<div>\n",
       "<style scoped>\n",
       "    .dataframe tbody tr th:only-of-type {\n",
       "        vertical-align: middle;\n",
       "    }\n",
       "\n",
       "    .dataframe tbody tr th {\n",
       "        vertical-align: top;\n",
       "    }\n",
       "\n",
       "    .dataframe thead th {\n",
       "        text-align: right;\n",
       "    }\n",
       "</style>\n",
       "<table border=\"1\" class=\"dataframe\">\n",
       "  <thead>\n",
       "    <tr style=\"text-align: right;\">\n",
       "      <th></th>\n",
       "      <th>host_response_rate</th>\n",
       "      <th>host_listings_count</th>\n",
       "      <th>host_total_listings_count</th>\n",
       "      <th>latitude</th>\n",
       "      <th>longitude</th>\n",
       "      <th>accommodates</th>\n",
       "      <th>bedrooms</th>\n",
       "      <th>beds</th>\n",
       "      <th>minimum_nights</th>\n",
       "      <th>maximum_nights</th>\n",
       "      <th>...</th>\n",
       "      <th>minimum_nights_avg_ntm</th>\n",
       "      <th>maximum_nights_avg_ntm</th>\n",
       "      <th>availability_30</th>\n",
       "      <th>availability_60</th>\n",
       "      <th>availability_90</th>\n",
       "      <th>availability_365</th>\n",
       "      <th>calculated_host_listings_count</th>\n",
       "      <th>calculated_host_listings_count_entire_homes</th>\n",
       "      <th>calculated_host_listings_count_private_rooms</th>\n",
       "      <th>calculated_host_listings_count_shared_rooms</th>\n",
       "    </tr>\n",
       "  </thead>\n",
       "  <tbody>\n",
       "    <tr>\n",
       "      <th>count</th>\n",
       "      <td>4769.000000</td>\n",
       "      <td>4769.000000</td>\n",
       "      <td>4769.000000</td>\n",
       "      <td>4769.000000</td>\n",
       "      <td>4769.000000</td>\n",
       "      <td>4769.000000</td>\n",
       "      <td>4265.000000</td>\n",
       "      <td>4331.000000</td>\n",
       "      <td>4769.000000</td>\n",
       "      <td>4769.000000</td>\n",
       "      <td>...</td>\n",
       "      <td>4766.000000</td>\n",
       "      <td>4.766000e+03</td>\n",
       "      <td>4769.000000</td>\n",
       "      <td>4769.000000</td>\n",
       "      <td>4769.000000</td>\n",
       "      <td>4769.000000</td>\n",
       "      <td>4769.000000</td>\n",
       "      <td>4769.000000</td>\n",
       "      <td>4769.000000</td>\n",
       "      <td>4769.000000</td>\n",
       "    </tr>\n",
       "    <tr>\n",
       "      <th>mean</th>\n",
       "      <td>84.209268</td>\n",
       "      <td>284.136716</td>\n",
       "      <td>284.136716</td>\n",
       "      <td>40.733054</td>\n",
       "      <td>-73.952392</td>\n",
       "      <td>2.840218</td>\n",
       "      <td>1.390152</td>\n",
       "      <td>1.597553</td>\n",
       "      <td>27.691969</td>\n",
       "      <td>622.861606</td>\n",
       "      <td>...</td>\n",
       "      <td>64.438649</td>\n",
       "      <td>3.814458e+06</td>\n",
       "      <td>12.373244</td>\n",
       "      <td>32.084294</td>\n",
       "      <td>52.837912</td>\n",
       "      <td>225.356679</td>\n",
       "      <td>47.465506</td>\n",
       "      <td>25.338855</td>\n",
       "      <td>21.998742</td>\n",
       "      <td>0.057035</td>\n",
       "    </tr>\n",
       "    <tr>\n",
       "      <th>std</th>\n",
       "      <td>30.677341</td>\n",
       "      <td>794.878642</td>\n",
       "      <td>794.878642</td>\n",
       "      <td>0.052399</td>\n",
       "      <td>0.050678</td>\n",
       "      <td>2.125481</td>\n",
       "      <td>0.855507</td>\n",
       "      <td>1.189789</td>\n",
       "      <td>39.251348</td>\n",
       "      <td>460.233625</td>\n",
       "      <td>...</td>\n",
       "      <td>158.673808</td>\n",
       "      <td>8.345579e+07</td>\n",
       "      <td>11.715317</td>\n",
       "      <td>22.532081</td>\n",
       "      <td>32.801843</td>\n",
       "      <td>134.370868</td>\n",
       "      <td>79.878639</td>\n",
       "      <td>71.682334</td>\n",
       "      <td>46.847255</td>\n",
       "      <td>0.435063</td>\n",
       "    </tr>\n",
       "    <tr>\n",
       "      <th>min</th>\n",
       "      <td>0.000000</td>\n",
       "      <td>0.000000</td>\n",
       "      <td>0.000000</td>\n",
       "      <td>40.522240</td>\n",
       "      <td>-74.207390</td>\n",
       "      <td>0.000000</td>\n",
       "      <td>1.000000</td>\n",
       "      <td>1.000000</td>\n",
       "      <td>1.000000</td>\n",
       "      <td>1.000000</td>\n",
       "      <td>...</td>\n",
       "      <td>1.000000</td>\n",
       "      <td>1.000000e+00</td>\n",
       "      <td>0.000000</td>\n",
       "      <td>0.000000</td>\n",
       "      <td>0.000000</td>\n",
       "      <td>0.000000</td>\n",
       "      <td>1.000000</td>\n",
       "      <td>0.000000</td>\n",
       "      <td>0.000000</td>\n",
       "      <td>0.000000</td>\n",
       "    </tr>\n",
       "    <tr>\n",
       "      <th>25%</th>\n",
       "      <td>89.000000</td>\n",
       "      <td>1.000000</td>\n",
       "      <td>1.000000</td>\n",
       "      <td>40.698750</td>\n",
       "      <td>-73.987156</td>\n",
       "      <td>2.000000</td>\n",
       "      <td>1.000000</td>\n",
       "      <td>1.000000</td>\n",
       "      <td>4.000000</td>\n",
       "      <td>270.000000</td>\n",
       "      <td>...</td>\n",
       "      <td>4.000000</td>\n",
       "      <td>3.650000e+02</td>\n",
       "      <td>0.000000</td>\n",
       "      <td>6.000000</td>\n",
       "      <td>25.000000</td>\n",
       "      <td>88.000000</td>\n",
       "      <td>1.000000</td>\n",
       "      <td>0.000000</td>\n",
       "      <td>0.000000</td>\n",
       "      <td>0.000000</td>\n",
       "    </tr>\n",
       "    <tr>\n",
       "      <th>50%</th>\n",
       "      <td>100.000000</td>\n",
       "      <td>3.000000</td>\n",
       "      <td>3.000000</td>\n",
       "      <td>40.741167</td>\n",
       "      <td>-73.960660</td>\n",
       "      <td>2.000000</td>\n",
       "      <td>1.000000</td>\n",
       "      <td>1.000000</td>\n",
       "      <td>30.000000</td>\n",
       "      <td>365.000000</td>\n",
       "      <td>...</td>\n",
       "      <td>30.000000</td>\n",
       "      <td>1.125000e+03</td>\n",
       "      <td>9.000000</td>\n",
       "      <td>35.000000</td>\n",
       "      <td>63.000000</td>\n",
       "      <td>279.000000</td>\n",
       "      <td>6.000000</td>\n",
       "      <td>1.000000</td>\n",
       "      <td>1.000000</td>\n",
       "      <td>0.000000</td>\n",
       "    </tr>\n",
       "    <tr>\n",
       "      <th>75%</th>\n",
       "      <td>100.000000</td>\n",
       "      <td>74.000000</td>\n",
       "      <td>74.000000</td>\n",
       "      <td>40.761450</td>\n",
       "      <td>-73.929680</td>\n",
       "      <td>4.000000</td>\n",
       "      <td>1.000000</td>\n",
       "      <td>2.000000</td>\n",
       "      <td>30.000000</td>\n",
       "      <td>1125.000000</td>\n",
       "      <td>...</td>\n",
       "      <td>30.000000</td>\n",
       "      <td>1.125000e+03</td>\n",
       "      <td>24.000000</td>\n",
       "      <td>53.000000</td>\n",
       "      <td>83.000000</td>\n",
       "      <td>351.000000</td>\n",
       "      <td>50.000000</td>\n",
       "      <td>5.000000</td>\n",
       "      <td>11.000000</td>\n",
       "      <td>0.000000</td>\n",
       "    </tr>\n",
       "    <tr>\n",
       "      <th>max</th>\n",
       "      <td>100.000000</td>\n",
       "      <td>3750.000000</td>\n",
       "      <td>3750.000000</td>\n",
       "      <td>40.912510</td>\n",
       "      <td>-73.722772</td>\n",
       "      <td>16.000000</td>\n",
       "      <td>16.000000</td>\n",
       "      <td>24.000000</td>\n",
       "      <td>365.000000</td>\n",
       "      <td>1125.000000</td>\n",
       "      <td>...</td>\n",
       "      <td>730.000000</td>\n",
       "      <td>2.147484e+09</td>\n",
       "      <td>30.000000</td>\n",
       "      <td>60.000000</td>\n",
       "      <td>90.000000</td>\n",
       "      <td>365.000000</td>\n",
       "      <td>308.000000</td>\n",
       "      <td>308.000000</td>\n",
       "      <td>180.000000</td>\n",
       "      <td>6.000000</td>\n",
       "    </tr>\n",
       "  </tbody>\n",
       "</table>\n",
       "<p>8 rows × 24 columns</p>\n",
       "</div>"
      ],
      "text/plain": [
       "       host_response_rate  host_listings_count  host_total_listings_count  \\\n",
       "count         4769.000000          4769.000000                4769.000000   \n",
       "mean            84.209268           284.136716                 284.136716   \n",
       "std             30.677341           794.878642                 794.878642   \n",
       "min              0.000000             0.000000                   0.000000   \n",
       "25%             89.000000             1.000000                   1.000000   \n",
       "50%            100.000000             3.000000                   3.000000   \n",
       "75%            100.000000            74.000000                  74.000000   \n",
       "max            100.000000          3750.000000                3750.000000   \n",
       "\n",
       "          latitude    longitude  accommodates     bedrooms         beds  \\\n",
       "count  4769.000000  4769.000000   4769.000000  4265.000000  4331.000000   \n",
       "mean     40.733054   -73.952392      2.840218     1.390152     1.597553   \n",
       "std       0.052399     0.050678      2.125481     0.855507     1.189789   \n",
       "min      40.522240   -74.207390      0.000000     1.000000     1.000000   \n",
       "25%      40.698750   -73.987156      2.000000     1.000000     1.000000   \n",
       "50%      40.741167   -73.960660      2.000000     1.000000     1.000000   \n",
       "75%      40.761450   -73.929680      4.000000     1.000000     2.000000   \n",
       "max      40.912510   -73.722772     16.000000    16.000000    24.000000   \n",
       "\n",
       "       minimum_nights  maximum_nights  ...  minimum_nights_avg_ntm  \\\n",
       "count     4769.000000     4769.000000  ...             4766.000000   \n",
       "mean        27.691969      622.861606  ...               64.438649   \n",
       "std         39.251348      460.233625  ...              158.673808   \n",
       "min          1.000000        1.000000  ...                1.000000   \n",
       "25%          4.000000      270.000000  ...                4.000000   \n",
       "50%         30.000000      365.000000  ...               30.000000   \n",
       "75%         30.000000     1125.000000  ...               30.000000   \n",
       "max        365.000000     1125.000000  ...              730.000000   \n",
       "\n",
       "       maximum_nights_avg_ntm  availability_30  availability_60  \\\n",
       "count            4.766000e+03      4769.000000      4769.000000   \n",
       "mean             3.814458e+06        12.373244        32.084294   \n",
       "std              8.345579e+07        11.715317        22.532081   \n",
       "min              1.000000e+00         0.000000         0.000000   \n",
       "25%              3.650000e+02         0.000000         6.000000   \n",
       "50%              1.125000e+03         9.000000        35.000000   \n",
       "75%              1.125000e+03        24.000000        53.000000   \n",
       "max              2.147484e+09        30.000000        60.000000   \n",
       "\n",
       "       availability_90  availability_365  calculated_host_listings_count  \\\n",
       "count      4769.000000       4769.000000                     4769.000000   \n",
       "mean         52.837912        225.356679                       47.465506   \n",
       "std          32.801843        134.370868                       79.878639   \n",
       "min           0.000000          0.000000                        1.000000   \n",
       "25%          25.000000         88.000000                        1.000000   \n",
       "50%          63.000000        279.000000                        6.000000   \n",
       "75%          83.000000        351.000000                       50.000000   \n",
       "max          90.000000        365.000000                      308.000000   \n",
       "\n",
       "       calculated_host_listings_count_entire_homes  \\\n",
       "count                                  4769.000000   \n",
       "mean                                     25.338855   \n",
       "std                                      71.682334   \n",
       "min                                       0.000000   \n",
       "25%                                       0.000000   \n",
       "50%                                       1.000000   \n",
       "75%                                       5.000000   \n",
       "max                                     308.000000   \n",
       "\n",
       "       calculated_host_listings_count_private_rooms  \\\n",
       "count                                   4769.000000   \n",
       "mean                                      21.998742   \n",
       "std                                       46.847255   \n",
       "min                                        0.000000   \n",
       "25%                                        0.000000   \n",
       "50%                                        1.000000   \n",
       "75%                                       11.000000   \n",
       "max                                      180.000000   \n",
       "\n",
       "       calculated_host_listings_count_shared_rooms  \n",
       "count                                  4769.000000  \n",
       "mean                                      0.057035  \n",
       "std                                       0.435063  \n",
       "min                                       0.000000  \n",
       "25%                                       0.000000  \n",
       "50%                                       0.000000  \n",
       "75%                                       0.000000  \n",
       "max                                       6.000000  \n",
       "\n",
       "[8 rows x 24 columns]"
      ]
     },
     "execution_count": 139,
     "metadata": {},
     "output_type": "execute_result"
    }
   ],
   "source": [
    "df_without_review.describe()"
   ]
  },
  {
   "cell_type": "code",
   "execution_count": 169,
   "metadata": {},
   "outputs": [
    {
     "data": {
      "text/plain": [
       "host_name                                       0\n",
       "host_response_time                              0\n",
       "host_response_rate                              0\n",
       "host_acceptance_rate                            0\n",
       "host_is_superhost                               0\n",
       "host_listings_count                             0\n",
       "host_total_listings_count                       0\n",
       "host_verifications                              0\n",
       "host_has_profile_pic                            0\n",
       "host_identity_verified                          0\n",
       "neighbourhood_cleansed                          0\n",
       "neighbourhood_group_cleansed                    0\n",
       "latitude                                        0\n",
       "longitude                                       0\n",
       "property_type                                   0\n",
       "room_type                                       0\n",
       "accommodates                                    0\n",
       "bathrooms_text                                  0\n",
       "bedrooms                                        0\n",
       "beds                                            0\n",
       "amenities                                       0\n",
       "price                                           0\n",
       "minimum_nights                                  0\n",
       "maximum_nights                                  0\n",
       "minimum_minimum_nights                          0\n",
       "maximum_minimum_nights                          0\n",
       "minimum_maximum_nights                          0\n",
       "maximum_maximum_nights                          0\n",
       "minimum_nights_avg_ntm                          0\n",
       "maximum_nights_avg_ntm                          0\n",
       "has_availability                                0\n",
       "availability_30                                 0\n",
       "availability_60                                 0\n",
       "availability_90                                 0\n",
       "availability_365                                0\n",
       "calendar_last_scraped                           0\n",
       "instant_bookable                                0\n",
       "calculated_host_listings_count                  0\n",
       "calculated_host_listings_count_entire_homes     0\n",
       "calculated_host_listings_count_private_rooms    0\n",
       "calculated_host_listings_count_shared_rooms     0\n",
       "dtype: int64"
      ]
     },
     "execution_count": 169,
     "metadata": {},
     "output_type": "execute_result"
    }
   ],
   "source": [
    "df_without_review.isna().sum()"
   ]
  },
  {
   "cell_type": "code",
   "execution_count": 143,
   "metadata": {
    "collapsed": true
   },
   "outputs": [
    {
     "data": {
      "text/plain": [
       "<matplotlib.axes._subplots.AxesSubplot at 0x7fbd01171410>"
      ]
     },
     "execution_count": 143,
     "metadata": {},
     "output_type": "execute_result"
    },
    {
     "data": {
      "image/png": "[encoded data removed]",
      "text/plain": [
       "<Figure size 1080x576 with 1 Axes>"
      ]
     },
     "metadata": {
      "needs_background": "light"
     },
     "output_type": "display_data"
    }
   ],
   "source": [
    "plt.figure(figsize=(15,8))\n",
    "sns.histplot(x=df_without_review.bedrooms,kde=True)"
   ]
  },
  {
   "cell_type": "code",
   "execution_count": 144,
   "metadata": {
    "collapsed": true
   },
   "outputs": [
    {
     "data": {
      "text/plain": [
       "<matplotlib.axes._subplots.AxesSubplot at 0x7fbcc6f0fa10>"
      ]
     },
     "execution_count": 144,
     "metadata": {},
     "output_type": "execute_result"
    },
    {
     "data": {
      "image/png": "[encoded data removed]",
      "text/plain": [
       "<Figure size 1080x576 with 1 Axes>"
      ]
     },
     "metadata": {
      "needs_background": "light"
     },
     "output_type": "display_data"
    }
   ],
   "source": [
    "plt.figure(figsize=(15,8))\n",
    "sns.histplot(x=df_without_review.beds,kde=True)"
   ]
  },
  {
   "cell_type": "code",
   "execution_count": 145,
   "metadata": {},
   "outputs": [],
   "source": [
    "df_without_review.bedrooms = df_without_review.bedrooms.fillna(1)\n",
    "df_without_review.beds = df_without_review.beds.fillna(1)"
   ]
  },
  {
   "cell_type": "code",
   "execution_count": 155,
   "metadata": {},
   "outputs": [],
   "source": [
    "df_without_review.host_acceptance_rate = df2.host_acceptance_rate[df2.first_review.isna()]\n",
    "df_without_review.host_acceptance_rate = df_without_review['host_acceptance_rate'].str.strip(\"%\").astype(float)"
   ]
  },
  {
   "cell_type": "code",
   "execution_count": 156,
   "metadata": {
    "collapsed": true
   },
   "outputs": [
    {
     "data": {
      "text/plain": [
       "<matplotlib.axes._subplots.AxesSubplot at 0x7fbcc7bf5e10>"
      ]
     },
     "execution_count": 156,
     "metadata": {},
     "output_type": "execute_result"
    },
    {
     "data": {
      "image/png": "[encoded data removed]",
      "text/plain": [
       "<Figure size 1080x576 with 1 Axes>"
      ]
     },
     "metadata": {
      "needs_background": "light"
     },
     "output_type": "display_data"
    }
   ],
   "source": [
    "plt.figure(figsize=(15,8))\n",
    "sns.histplot(x=df_without_review.host_acceptance_rate,kde=True)"
   ]
  },
  {
   "cell_type": "code",
   "execution_count": 159,
   "metadata": {},
   "outputs": [],
   "source": [
    "## drop na for maximum_maximum_nights\n",
    "df_without_review = df_without_review[df_without_review.maximum_maximum_nights.notna()]"
   ]
  },
  {
   "cell_type": "code",
   "execution_count": 161,
   "metadata": {},
   "outputs": [],
   "source": [
    "df_without_review = df_without_review[df_without_review.bathrooms_text.notna()]"
   ]
  },
  {
   "cell_type": "code",
   "execution_count": 168,
   "metadata": {
    "collapsed": true
   },
   "outputs": [
    {
     "name": "stderr",
     "output_type": "stream",
     "text": [
      "/opt/anaconda3/lib/python3.7/site-packages/pandas/core/generic.py:5303: SettingWithCopyWarning: \n",
      "A value is trying to be set on a copy of a slice from a DataFrame.\n",
      "Try using .loc[row_indexer,col_indexer] = value instead\n",
      "\n",
      "See the caveats in the documentation: https://pandas.pydata.org/pandas-docs/stable/user_guide/indexing.html#returning-a-view-versus-a-copy\n",
      "  self[name] = value\n"
     ]
    }
   ],
   "source": [
    "df_without_review.host_acceptance_rate = df_without_review.host_acceptance_rate.fillna(83)"
   ]
  },
  {
   "cell_type": "code",
   "execution_count": 217,
   "metadata": {},
   "outputs": [],
   "source": [
    "df_without_review = df_without_review.drop(columns=['bathrooms_text'])"
   ]
  },
  {
   "cell_type": "code",
   "execution_count": 290,
   "metadata": {},
   "outputs": [],
   "source": [
    "df_without_review = df_without_review.drop(columns=['neighbourhood_cleansed'])"
   ]
  },
  {
   "cell_type": "code",
   "execution_count": 281,
   "metadata": {},
   "outputs": [],
   "source": [
    "df_without_review.price = df_without_review['price'].str.strip('$').str.replace(',', '').astype(float)"
   ]
  },
  {
   "cell_type": "code",
   "execution_count": 282,
   "metadata": {},
   "outputs": [
    {
     "data": {
      "text/plain": [
       "count     4752.000000\n",
       "mean       215.647727\n",
       "std        378.812910\n",
       "min         20.000000\n",
       "25%         62.750000\n",
       "50%        125.000000\n",
       "75%        250.000000\n",
       "max      10000.000000\n",
       "Name: price, dtype: float64"
      ]
     },
     "execution_count": 282,
     "metadata": {},
     "output_type": "execute_result"
    }
   ],
   "source": [
    "df_without_review.price.describe()"
   ]
  },
  {
   "cell_type": "markdown",
   "metadata": {},
   "source": [
    "### df_with_review"
   ]
  },
  {
   "cell_type": "code",
   "execution_count": 257,
   "metadata": {},
   "outputs": [
    {
     "data": {
      "text/plain": [
       "reviews_per_month                               0\n",
       "calculated_host_listings_count_shared_rooms     0\n",
       "maximum_minimum_nights                          0\n",
       "minimum_minimum_nights                          0\n",
       "maximum_nights                                  0\n",
       "minimum_nights                                  0\n",
       "price                                           0\n",
       "amenities                                       0\n",
       "beds                                            0\n",
       "bedrooms                                        0\n",
       "accommodates                                    0\n",
       "room_type                                       0\n",
       "property_type                                   0\n",
       "longitude                                       0\n",
       "latitude                                        0\n",
       "neighbourhood_group_cleansed                    0\n",
       "neighbourhood_cleansed                          0\n",
       "host_identity_verified                          0\n",
       "host_has_profile_pic                            0\n",
       "host_verifications                              0\n",
       "host_total_listings_count                       0\n",
       "host_listings_count                             0\n",
       "host_is_superhost                               0\n",
       "host_acceptance_rate                            0\n",
       "host_response_rate                              0\n",
       "minimum_maximum_nights                          0\n",
       "maximum_maximum_nights                          0\n",
       "minimum_nights_avg_ntm                          0\n",
       "review_scores_rating                            0\n",
       "calculated_host_listings_count_private_rooms    0\n",
       "calculated_host_listings_count_entire_homes     0\n",
       "calculated_host_listings_count                  0\n",
       "instant_bookable                                0\n",
       "review_scores_value                             0\n",
       "review_scores_location                          0\n",
       "review_scores_communication                     0\n",
       "review_scores_checkin                           0\n",
       "review_scores_cleanliness                       0\n",
       "review_scores_accuracy                          0\n",
       "last_review                                     0\n",
       "maximum_nights_avg_ntm                          0\n",
       "first_review                                    0\n",
       "number_of_reviews_l30d                          0\n",
       "number_of_reviews_ltm                           0\n",
       "number_of_reviews                               0\n",
       "calendar_last_scraped                           0\n",
       "availability_365                                0\n",
       "availability_90                                 0\n",
       "availability_60                                 0\n",
       "availability_30                                 0\n",
       "has_availability                                0\n",
       "host_response_time                              0\n",
       "dtype: int64"
      ]
     },
     "execution_count": 257,
     "metadata": {},
     "output_type": "execute_result"
    }
   ],
   "source": [
    "df_with_review.isna().sum().sort_values(ascending=False)"
   ]
  },
  {
   "cell_type": "code",
   "execution_count": 223,
   "metadata": {},
   "outputs": [],
   "source": [
    "df_with_review = df_with_review.drop(columns=['id', 'host_id','name','description',\n",
    "                                              'host_since','host_name','host_neighbourhood'])"
   ]
  },
  {
   "cell_type": "code",
   "execution_count": 228,
   "metadata": {},
   "outputs": [],
   "source": [
    "df_with_review = df_with_review.drop(columns=['bathrooms_text'])"
   ]
  },
  {
   "cell_type": "code",
   "execution_count": 288,
   "metadata": {},
   "outputs": [],
   "source": [
    "df_with_review = df_with_review.drop(columns=['neighbourhood_cleansed'])"
   ]
  },
  {
   "cell_type": "code",
   "execution_count": 219,
   "metadata": {},
   "outputs": [],
   "source": [
    "df_with_review = df_with_review[df_with_review.review_scores_accuracy.notna()]"
   ]
  },
  {
   "cell_type": "code",
   "execution_count": 221,
   "metadata": {},
   "outputs": [],
   "source": [
    "df_with_review = df_with_review[df_with_review.minimum_minimum_nights.notna()]"
   ]
  },
  {
   "cell_type": "code",
   "execution_count": 230,
   "metadata": {
    "collapsed": true
   },
   "outputs": [
    {
     "data": {
      "text/plain": [
       "<matplotlib.axes._subplots.AxesSubplot at 0x7fbcc8564d10>"
      ]
     },
     "execution_count": 230,
     "metadata": {},
     "output_type": "execute_result"
    },
    {
     "data": {
      "image/png": "[encoded data removed]",
      "text/plain": [
       "<Figure size 1080x576 with 1 Axes>"
      ]
     },
     "metadata": {
      "needs_background": "light"
     },
     "output_type": "display_data"
    }
   ],
   "source": [
    "plt.figure(figsize=(15,8))\n",
    "sns.histplot(x=df_with_review.bedrooms,kde=True)"
   ]
  },
  {
   "cell_type": "code",
   "execution_count": 231,
   "metadata": {
    "collapsed": true
   },
   "outputs": [
    {
     "data": {
      "text/plain": [
       "<matplotlib.axes._subplots.AxesSubplot at 0x7fbcc938b9d0>"
      ]
     },
     "execution_count": 231,
     "metadata": {},
     "output_type": "execute_result"
    },
    {
     "data": {
      "image/png": "[encoded data removed]",
      "text/plain": [
       "<Figure size 1080x576 with 1 Axes>"
      ]
     },
     "metadata": {
      "needs_background": "light"
     },
     "output_type": "display_data"
    }
   ],
   "source": [
    "plt.figure(figsize=(15,8))\n",
    "sns.histplot(x=df_with_review.beds,kde=True)"
   ]
  },
  {
   "cell_type": "code",
   "execution_count": 246,
   "metadata": {},
   "outputs": [],
   "source": [
    "prob = df_without_review.bedrooms.value_counts()/df_without_review.bedrooms.value_counts().sum()\n",
    "pop = [1,2,3,4,5,6,8,16,7,9,13]"
   ]
  },
  {
   "cell_type": "code",
   "execution_count": 242,
   "metadata": {},
   "outputs": [
    {
     "data": {
      "text/plain": [
       "array([ 1.,  2.,  4.,  3.,  5.,  8., 13.,  9.,  6.,  7., 16.])"
      ]
     },
     "execution_count": 242,
     "metadata": {},
     "output_type": "execute_result"
    }
   ],
   "source": [
    "df_without_review.bedrooms.unique()"
   ]
  },
  {
   "cell_type": "code",
   "execution_count": 250,
   "metadata": {},
   "outputs": [],
   "source": [
    "df_with_review.bedrooms = df_with_review.bedrooms.fillna(1)\n",
    "df_with_review.beds = df_with_review.beds.fillna(1)"
   ]
  },
  {
   "cell_type": "code",
   "execution_count": 253,
   "metadata": {},
   "outputs": [],
   "source": [
    "df_with_review.host_acceptance_rate = df_with_review['host_acceptance_rate'].str.strip(\"%\").astype(float)"
   ]
  },
  {
   "cell_type": "code",
   "execution_count": 254,
   "metadata": {
    "collapsed": true
   },
   "outputs": [
    {
     "data": {
      "text/plain": [
       "<matplotlib.axes._subplots.AxesSubplot at 0x7fbcc9071490>"
      ]
     },
     "execution_count": 254,
     "metadata": {},
     "output_type": "execute_result"
    },
    {
     "data": {
      "image/png": "[encoded data removed]",
      "text/plain": [
       "<Figure size 1080x576 with 1 Axes>"
      ]
     },
     "metadata": {
      "needs_background": "light"
     },
     "output_type": "display_data"
    }
   ],
   "source": [
    "plt.figure(figsize=(15,8))\n",
    "sns.histplot(x=df_with_review.host_acceptance_rate,kde=True)"
   ]
  },
  {
   "cell_type": "code",
   "execution_count": 255,
   "metadata": {},
   "outputs": [
    {
     "data": {
      "text/plain": [
       "count    15798.000000\n",
       "mean        80.048867\n",
       "std         26.445749\n",
       "min          0.000000\n",
       "25%         71.000000\n",
       "50%         91.000000\n",
       "75%         99.000000\n",
       "max        100.000000\n",
       "Name: host_acceptance_rate, dtype: float64"
      ]
     },
     "execution_count": 255,
     "metadata": {},
     "output_type": "execute_result"
    }
   ],
   "source": [
    "df_with_review.host_acceptance_rate.describe()"
   ]
  },
  {
   "cell_type": "code",
   "execution_count": 256,
   "metadata": {},
   "outputs": [],
   "source": [
    "df_with_review.host_acceptance_rate = df_with_review.host_acceptance_rate.fillna(91)"
   ]
  },
  {
   "cell_type": "code",
   "execution_count": 262,
   "metadata": {},
   "outputs": [],
   "source": [
    "df_with_review.price = df2.price[-df2.first_review.isna()]"
   ]
  },
  {
   "cell_type": "code",
   "execution_count": 279,
   "metadata": {},
   "outputs": [],
   "source": [
    "df_with_review.price = df_with_review['price'].str.strip('$').str.replace(',', '').astype(float)"
   ]
  },
  {
   "cell_type": "code",
   "execution_count": 280,
   "metadata": {},
   "outputs": [
    {
     "data": {
      "text/plain": [
       "count    16229.000000\n",
       "mean       176.749646\n",
       "std        265.119933\n",
       "min          0.000000\n",
       "25%         75.000000\n",
       "50%        125.000000\n",
       "75%        200.000000\n",
       "max      10000.000000\n",
       "Name: price, dtype: float64"
      ]
     },
     "execution_count": 280,
     "metadata": {},
     "output_type": "execute_result"
    }
   ],
   "source": [
    "df_with_review.price.describe()"
   ]
  },
  {
   "cell_type": "markdown",
   "metadata": {},
   "source": [
    "# Model Part\n",
    "## Without review"
   ]
  },
  {
   "cell_type": "code",
   "execution_count": 283,
   "metadata": {},
   "outputs": [
    {
     "name": "stderr",
     "output_type": "stream",
     "text": [
      "/opt/anaconda3/lib/python3.7/site-packages/seaborn/distributions.py:2619: FutureWarning: `distplot` is a deprecated function and will be removed in a future version. Please adapt your code to use either `displot` (a figure-level function with similar flexibility) or `histplot` (an axes-level function for histograms).\n",
      "  warnings.warn(msg, FutureWarning)\n"
     ]
    },
    {
     "data": {
      "text/plain": [
       "<matplotlib.axes._subplots.AxesSubplot at 0x7fbcc9413910>"
      ]
     },
     "execution_count": 283,
     "metadata": {},
     "output_type": "execute_result"
    },
    {
     "data": {
      "image/png": "[encoded data removed]",
      "text/plain": [
       "<Figure size 576x432 with 1 Axes>"
      ]
     },
     "metadata": {
      "needs_background": "light"
     },
     "output_type": "display_data"
    }
   ],
   "source": [
    "fig, ax = plt.subplots(1,1, figsize=(8,6))\n",
    "sns.distplot(df_without_review['price'], ax=ax)"
   ]
  },
  {
   "cell_type": "code",
   "execution_count": 284,
   "metadata": {},
   "outputs": [
    {
     "data": {
      "text/plain": [
       "Manhattan        2433\n",
       "Brooklyn         1384\n",
       "Queens            755\n",
       "Bronx             135\n",
       "Staten Island      45\n",
       "Name: neighbourhood_group_cleansed, dtype: int64"
      ]
     },
     "execution_count": 284,
     "metadata": {},
     "output_type": "execute_result"
    }
   ],
   "source": [
    "df_without_review.neighbourhood_group_cleansed.value_counts()"
   ]
  },
  {
   "cell_type": "code",
   "execution_count": 285,
   "metadata": {},
   "outputs": [
    {
     "data": {
      "text/plain": [
       "Hell's Kitchen        408\n",
       "Midtown               356\n",
       "Bedford-Stuyvesant    313\n",
       "Upper West Side       229\n",
       "Upper East Side       224\n",
       "                     ... \n",
       "Clifton                 1\n",
       "Manhattan Beach         1\n",
       "Edgemere                1\n",
       "Bath Beach              1\n",
       "Fort Wadsworth          1\n",
       "Name: neighbourhood_cleansed, Length: 182, dtype: int64"
      ]
     },
     "execution_count": 285,
     "metadata": {},
     "output_type": "execute_result"
    }
   ],
   "source": [
    "df_without_review.neighbourhood_cleansed.value_counts()"
   ]
  },
  {
   "cell_type": "code",
   "execution_count": 287,
   "metadata": {},
   "outputs": [
    {
     "data": {
      "text/html": [
       "<div>\n",
       "<style scoped>\n",
       "    .dataframe tbody tr th:only-of-type {\n",
       "        vertical-align: middle;\n",
       "    }\n",
       "\n",
       "    .dataframe tbody tr th {\n",
       "        vertical-align: top;\n",
       "    }\n",
       "\n",
       "    .dataframe thead th {\n",
       "        text-align: right;\n",
       "    }\n",
       "</style>\n",
       "<table border=\"1\" class=\"dataframe\">\n",
       "  <thead>\n",
       "    <tr style=\"text-align: right;\">\n",
       "      <th></th>\n",
       "      <th>nbg_Bronx</th>\n",
       "      <th>nbg_Brooklyn</th>\n",
       "      <th>nbg_Manhattan</th>\n",
       "      <th>nbg_Queens</th>\n",
       "      <th>nbg_Staten Island</th>\n",
       "    </tr>\n",
       "  </thead>\n",
       "  <tbody>\n",
       "    <tr>\n",
       "      <th>8</th>\n",
       "      <td>0</td>\n",
       "      <td>0</td>\n",
       "      <td>1</td>\n",
       "      <td>0</td>\n",
       "      <td>0</td>\n",
       "    </tr>\n",
       "    <tr>\n",
       "      <th>12</th>\n",
       "      <td>0</td>\n",
       "      <td>0</td>\n",
       "      <td>1</td>\n",
       "      <td>0</td>\n",
       "      <td>0</td>\n",
       "    </tr>\n",
       "    <tr>\n",
       "      <th>262</th>\n",
       "      <td>0</td>\n",
       "      <td>0</td>\n",
       "      <td>1</td>\n",
       "      <td>0</td>\n",
       "      <td>0</td>\n",
       "    </tr>\n",
       "    <tr>\n",
       "      <th>285</th>\n",
       "      <td>0</td>\n",
       "      <td>1</td>\n",
       "      <td>0</td>\n",
       "      <td>0</td>\n",
       "      <td>0</td>\n",
       "    </tr>\n",
       "    <tr>\n",
       "      <th>590</th>\n",
       "      <td>0</td>\n",
       "      <td>0</td>\n",
       "      <td>1</td>\n",
       "      <td>0</td>\n",
       "      <td>0</td>\n",
       "    </tr>\n",
       "  </tbody>\n",
       "</table>\n",
       "</div>"
      ],
      "text/plain": [
       "     nbg_Bronx  nbg_Brooklyn  nbg_Manhattan  nbg_Queens  nbg_Staten Island\n",
       "8            0             0              1           0                  0\n",
       "12           0             0              1           0                  0\n",
       "262          0             0              1           0                  0\n",
       "285          0             1              0           0                  0\n",
       "590          0             0              1           0                  0"
      ]
     },
     "execution_count": 287,
     "metadata": {},
     "output_type": "execute_result"
    }
   ],
   "source": [
    "df_wo_dum = pd.get_dummies(df_without_review.neighbourhood_group_cleansed, prefix='nbg')\n",
    "df_wo_dum.head()"
   ]
  },
  {
   "cell_type": "code",
   "execution_count": 291,
   "metadata": {},
   "outputs": [
    {
     "data": {
      "text/html": [
       "<div>\n",
       "<style scoped>\n",
       "    .dataframe tbody tr th:only-of-type {\n",
       "        vertical-align: middle;\n",
       "    }\n",
       "\n",
       "    .dataframe tbody tr th {\n",
       "        vertical-align: top;\n",
       "    }\n",
       "\n",
       "    .dataframe thead th {\n",
       "        text-align: right;\n",
       "    }\n",
       "</style>\n",
       "<table border=\"1\" class=\"dataframe\">\n",
       "  <thead>\n",
       "    <tr style=\"text-align: right;\">\n",
       "      <th></th>\n",
       "      <th>rt_Entire home/apt</th>\n",
       "      <th>rt_Hotel room</th>\n",
       "      <th>rt_Private room</th>\n",
       "      <th>rt_Shared room</th>\n",
       "    </tr>\n",
       "  </thead>\n",
       "  <tbody>\n",
       "    <tr>\n",
       "      <th>8</th>\n",
       "      <td>0</td>\n",
       "      <td>0</td>\n",
       "      <td>1</td>\n",
       "      <td>0</td>\n",
       "    </tr>\n",
       "    <tr>\n",
       "      <th>12</th>\n",
       "      <td>0</td>\n",
       "      <td>0</td>\n",
       "      <td>1</td>\n",
       "      <td>0</td>\n",
       "    </tr>\n",
       "    <tr>\n",
       "      <th>262</th>\n",
       "      <td>1</td>\n",
       "      <td>0</td>\n",
       "      <td>0</td>\n",
       "      <td>0</td>\n",
       "    </tr>\n",
       "    <tr>\n",
       "      <th>285</th>\n",
       "      <td>1</td>\n",
       "      <td>0</td>\n",
       "      <td>0</td>\n",
       "      <td>0</td>\n",
       "    </tr>\n",
       "    <tr>\n",
       "      <th>590</th>\n",
       "      <td>1</td>\n",
       "      <td>0</td>\n",
       "      <td>0</td>\n",
       "      <td>0</td>\n",
       "    </tr>\n",
       "  </tbody>\n",
       "</table>\n",
       "</div>"
      ],
      "text/plain": [
       "     rt_Entire home/apt  rt_Hotel room  rt_Private room  rt_Shared room\n",
       "8                     0              0                1               0\n",
       "12                    0              0                1               0\n",
       "262                   1              0                0               0\n",
       "285                   1              0                0               0\n",
       "590                   1              0                0               0"
      ]
     },
     "execution_count": 291,
     "metadata": {},
     "output_type": "execute_result"
    }
   ],
   "source": [
    "df_wo_rt_dum = pd.get_dummies(df_without_review.room_type, prefix='rt')\n",
    "df_wo_rt_dum.head()"
   ]
  },
  {
   "cell_type": "code",
   "execution_count": 293,
   "metadata": {},
   "outputs": [],
   "source": [
    "df_without_review = df_without_review.drop(columns=['property_type'])"
   ]
  },
  {
   "cell_type": "code",
   "execution_count": 297,
   "metadata": {},
   "outputs": [],
   "source": [
    "df_without_review = df_without_review.drop(columns=['host_name','host_verifications'])\n",
    "df_without_review = df_without_review.drop(columns=['calendar_last_scraped'])\n",
    "df_without_review = df_without_review.drop(columns=['amenities'])"
   ]
  },
  {
   "cell_type": "code",
   "execution_count": 309,
   "metadata": {},
   "outputs": [
    {
     "data": {
      "text/html": [
       "<div>\n",
       "<style scoped>\n",
       "    .dataframe tbody tr th:only-of-type {\n",
       "        vertical-align: middle;\n",
       "    }\n",
       "\n",
       "    .dataframe tbody tr th {\n",
       "        vertical-align: top;\n",
       "    }\n",
       "\n",
       "    .dataframe thead th {\n",
       "        text-align: right;\n",
       "    }\n",
       "</style>\n",
       "<table border=\"1\" class=\"dataframe\">\n",
       "  <thead>\n",
       "    <tr style=\"text-align: right;\">\n",
       "      <th></th>\n",
       "      <th>rp_time_a few days or more</th>\n",
       "      <th>rp_time_within a day</th>\n",
       "      <th>rp_time_within a few hours</th>\n",
       "      <th>rp_time_within an hour</th>\n",
       "    </tr>\n",
       "  </thead>\n",
       "  <tbody>\n",
       "    <tr>\n",
       "      <th>8</th>\n",
       "      <td>0</td>\n",
       "      <td>0</td>\n",
       "      <td>0</td>\n",
       "      <td>1</td>\n",
       "    </tr>\n",
       "    <tr>\n",
       "      <th>12</th>\n",
       "      <td>0</td>\n",
       "      <td>1</td>\n",
       "      <td>0</td>\n",
       "      <td>0</td>\n",
       "    </tr>\n",
       "    <tr>\n",
       "      <th>262</th>\n",
       "      <td>1</td>\n",
       "      <td>0</td>\n",
       "      <td>0</td>\n",
       "      <td>0</td>\n",
       "    </tr>\n",
       "    <tr>\n",
       "      <th>285</th>\n",
       "      <td>0</td>\n",
       "      <td>0</td>\n",
       "      <td>0</td>\n",
       "      <td>1</td>\n",
       "    </tr>\n",
       "    <tr>\n",
       "      <th>590</th>\n",
       "      <td>1</td>\n",
       "      <td>0</td>\n",
       "      <td>0</td>\n",
       "      <td>0</td>\n",
       "    </tr>\n",
       "  </tbody>\n",
       "</table>\n",
       "</div>"
      ],
      "text/plain": [
       "     rp_time_a few days or more  rp_time_within a day  \\\n",
       "8                             0                     0   \n",
       "12                            0                     1   \n",
       "262                           1                     0   \n",
       "285                           0                     0   \n",
       "590                           1                     0   \n",
       "\n",
       "     rp_time_within a few hours  rp_time_within an hour  \n",
       "8                             0                       1  \n",
       "12                            0                       0  \n",
       "262                           0                       0  \n",
       "285                           0                       1  \n",
       "590                           0                       0  "
      ]
     },
     "execution_count": 309,
     "metadata": {},
     "output_type": "execute_result"
    }
   ],
   "source": [
    "df_wo_rep_dum = pd.get_dummies(df_without_review.host_response_time, prefix='rp_time')\n",
    "df_wo_rep_dum.head()"
   ]
  },
  {
   "cell_type": "code",
   "execution_count": 320,
   "metadata": {},
   "outputs": [
    {
     "data": {
      "text/html": [
       "<div>\n",
       "<style scoped>\n",
       "    .dataframe tbody tr th:only-of-type {\n",
       "        vertical-align: middle;\n",
       "    }\n",
       "\n",
       "    .dataframe tbody tr th {\n",
       "        vertical-align: top;\n",
       "    }\n",
       "\n",
       "    .dataframe thead th {\n",
       "        text-align: right;\n",
       "    }\n",
       "</style>\n",
       "<table border=\"1\" class=\"dataframe\">\n",
       "  <thead>\n",
       "    <tr style=\"text-align: right;\">\n",
       "      <th></th>\n",
       "      <th>host_is_superhost</th>\n",
       "      <th>host_has_profile_pic</th>\n",
       "      <th>host_identity_verified</th>\n",
       "      <th>has_availability</th>\n",
       "      <th>instant_bookable</th>\n",
       "    </tr>\n",
       "  </thead>\n",
       "  <tbody>\n",
       "    <tr>\n",
       "      <th>8</th>\n",
       "      <td>0</td>\n",
       "      <td>1</td>\n",
       "      <td>1</td>\n",
       "      <td>1</td>\n",
       "      <td>0</td>\n",
       "    </tr>\n",
       "    <tr>\n",
       "      <th>12</th>\n",
       "      <td>0</td>\n",
       "      <td>1</td>\n",
       "      <td>1</td>\n",
       "      <td>1</td>\n",
       "      <td>0</td>\n",
       "    </tr>\n",
       "    <tr>\n",
       "      <th>262</th>\n",
       "      <td>0</td>\n",
       "      <td>1</td>\n",
       "      <td>1</td>\n",
       "      <td>1</td>\n",
       "      <td>0</td>\n",
       "    </tr>\n",
       "    <tr>\n",
       "      <th>285</th>\n",
       "      <td>1</td>\n",
       "      <td>1</td>\n",
       "      <td>1</td>\n",
       "      <td>1</td>\n",
       "      <td>1</td>\n",
       "    </tr>\n",
       "    <tr>\n",
       "      <th>590</th>\n",
       "      <td>0</td>\n",
       "      <td>1</td>\n",
       "      <td>0</td>\n",
       "      <td>1</td>\n",
       "      <td>0</td>\n",
       "    </tr>\n",
       "  </tbody>\n",
       "</table>\n",
       "</div>"
      ],
      "text/plain": [
       "     host_is_superhost  host_has_profile_pic  host_identity_verified  \\\n",
       "8                    0                     1                       1   \n",
       "12                   0                     1                       1   \n",
       "262                  0                     1                       1   \n",
       "285                  1                     1                       1   \n",
       "590                  0                     1                       0   \n",
       "\n",
       "     has_availability  instant_bookable  \n",
       "8                   1                 0  \n",
       "12                  1                 0  \n",
       "262                 1                 0  \n",
       "285                 1                 1  \n",
       "590                 1                 0  "
      ]
     },
     "execution_count": 320,
     "metadata": {},
     "output_type": "execute_result"
    }
   ],
   "source": [
    "tf_mapping = {'t':1,\n",
    "              'f':0}\n",
    "\n",
    "wo_features = pd.DataFrame()\n",
    "wo_features['host_is_superhost'] = df_without_review['host_is_superhost'].map(tf_mapping)\n",
    "wo_features['host_has_profile_pic'] = df_without_review['host_has_profile_pic'].map(tf_mapping)\n",
    "wo_features['host_identity_verified'] = df_without_review['host_identity_verified'].map(tf_mapping)\n",
    "wo_features['has_availability'] = df_without_review['has_availability'].map(tf_mapping)\n",
    "wo_features['instant_bookable'] = df_without_review['instant_bookable'].map(tf_mapping)\n",
    "wo_features.head()"
   ]
  },
  {
   "cell_type": "code",
   "execution_count": 324,
   "metadata": {},
   "outputs": [],
   "source": [
    "df_wo = df_without_review.drop(columns=['neighbourhood_group_cleansed','room_type','host_response_time',\n",
    "                           'host_is_superhost','host_has_profile_pic','host_identity_verified',\n",
    "                           'has_availability','instant_bookable'])"
   ]
  },
  {
   "cell_type": "code",
   "execution_count": 331,
   "metadata": {},
   "outputs": [],
   "source": [
    "df_wo_reg = df_wo.join(df_wo_rt_dum).join(df_wo_dum).join(df_wo_rep_dum).join(wo_features)"
   ]
  },
  {
   "cell_type": "code",
   "execution_count": 332,
   "metadata": {},
   "outputs": [
    {
     "data": {
      "text/plain": [
       "(4752, 44)"
      ]
     },
     "execution_count": 332,
     "metadata": {},
     "output_type": "execute_result"
    }
   ],
   "source": [
    "np.shape(df_wo_reg)"
   ]
  },
  {
   "cell_type": "code",
   "execution_count": 339,
   "metadata": {},
   "outputs": [],
   "source": [
    "lp = np.log(df_wo_reg.price)"
   ]
  },
  {
   "cell_type": "code",
   "execution_count": 340,
   "metadata": {},
   "outputs": [
    {
     "data": {
      "text/plain": [
       "1.38"
      ]
     },
     "execution_count": 340,
     "metadata": {},
     "output_type": "execute_result"
    }
   ],
   "source": [
    "### outlier\n",
    "lp25,lp75 = lp.quantile(.25),lp.quantile(.75)\n",
    "liqr = lp75 - lp25\n",
    "liqr.round(2)"
   ]
  },
  {
   "cell_type": "code",
   "execution_count": 341,
   "metadata": {},
   "outputs": [
    {
     "name": "stdout",
     "output_type": "stream",
     "text": [
      "7.594950333073232\n",
      "2.065645225843937\n"
     ]
    }
   ],
   "source": [
    "print(lp75+(1.5*liqr))\n",
    "print(lp25-(1.5*liqr))"
   ]
  },
  {
   "cell_type": "code",
   "execution_count": 342,
   "metadata": {},
   "outputs": [],
   "source": [
    "df_wo_reg = df_wo_reg[(lp<lp75+(1.5*liqr)) & (lp>lp25-(1.5*liqr))] "
   ]
  },
  {
   "cell_type": "code",
   "execution_count": 343,
   "metadata": {},
   "outputs": [
    {
     "data": {
      "text/plain": [
       "(4716, 44)"
      ]
     },
     "execution_count": 343,
     "metadata": {},
     "output_type": "execute_result"
    }
   ],
   "source": [
    "df_wo_reg.shape"
   ]
  },
  {
   "cell_type": "code",
   "execution_count": 344,
   "metadata": {},
   "outputs": [],
   "source": [
    "X_wo = df_wo_reg.drop(columns=['price'])\n",
    "y_wo = np.log(df_wo_reg.price)"
   ]
  },
  {
   "cell_type": "code",
   "execution_count": 363,
   "metadata": {},
   "outputs": [],
   "source": [
    "X_wo = X_wo.drop(columns=['minimum_minimum_nights', 'maximum_minimum_nights',\n",
    "                          'minimum_maximum_nights', 'maximum_maximum_nights'])"
   ]
  },
  {
   "cell_type": "code",
   "execution_count": 345,
   "metadata": {},
   "outputs": [],
   "source": [
    "## Train test split\n",
    "from sklearn.linear_model import LinearRegression\n",
    "from sklearn.model_selection import train_test_split\n",
    "from sklearn.metrics import r2_score\n",
    "from sklearn import metrics\n",
    "from sklearn.metrics import mean_squared_error\n",
    "from sklearn.metrics import mean_absolute_error\n",
    "from math import sqrt"
   ]
  },
  {
   "cell_type": "code",
   "execution_count": 365,
   "metadata": {},
   "outputs": [],
   "source": [
    "x_wo_train,x_wo_test,y_wo_train,y_wo_test=train_test_split(X_wo,y_wo,test_size=.3,random_state=123)"
   ]
  },
  {
   "cell_type": "code",
   "execution_count": 418,
   "metadata": {},
   "outputs": [],
   "source": [
    "from sklearn.decomposition import PCA\n",
    "pca_wo = PCA(n_components=6).fit(x_wo_train)"
   ]
  },
  {
   "cell_type": "code",
   "execution_count": 419,
   "metadata": {},
   "outputs": [
    {
     "data": {
      "text/plain": [
       "array([0.136, 0.105, 0.081, 0.061, 0.058, 0.053])"
      ]
     },
     "execution_count": 419,
     "metadata": {},
     "output_type": "execute_result"
    }
   ],
   "source": [
    "pca_wo.explained_variance_ratio_.round(3)"
   ]
  },
  {
   "cell_type": "code",
   "execution_count": 420,
   "metadata": {},
   "outputs": [
    {
     "data": {
      "text/plain": [
       "array([ 0.1549,  0.1563,  0.332 ,  0.332 ,  0.0885, -0.1358,  0.006 ,\n",
       "       -0.0048, -0.0132,  0.089 ,  0.1381,  0.3701, -0.0016, -0.1376,\n",
       "       -0.1535, -0.1447,  0.0085,  0.3305,  0.3731, -0.0118, -0.0416,\n",
       "        0.1471,  0.0073, -0.1387, -0.0395, -0.0399, -0.1274,  0.1945,\n",
       "       -0.0821, -0.0194, -0.1348, -0.0581, -0.0835,  0.2142, -0.0277,\n",
       "        0.0402,  0.0809,  0.0089,  0.1954])"
      ]
     },
     "execution_count": 420,
     "metadata": {},
     "output_type": "execute_result"
    }
   ],
   "source": [
    "pca_wo.components_[0].round(4)\n",
    "## not a good result, so we directly use lr"
   ]
  },
  {
   "cell_type": "code",
   "execution_count": 361,
   "metadata": {},
   "outputs": [
    {
     "data": {
      "text/plain": [
       "array([ 0.    , -0.    ,  0.    ,  0.    , -0.    , -0.    , -0.    ,\n",
       "        0.    , -0.    ,  0.    ,  0.    ,  0.    ,  0.    , -0.6089,\n",
       "       -0.2082,  0.    ,  0.7654,  0.    ,  0.    ,  0.    ,  0.    ,\n",
       "        0.    ,  0.    ,  0.    ,  0.    ,  0.    , -0.    ,  0.    ,\n",
       "        0.    ,  0.    ,  0.    ,  0.    , -0.    ,  0.    ,  0.    ,\n",
       "       -0.    ,  0.    ,  0.    ,  0.    , -0.    , -0.    , -0.    ,\n",
       "       -0.    ])"
      ]
     },
     "execution_count": 361,
     "metadata": {},
     "output_type": "execute_result"
    }
   ],
   "source": [
    "pca_wo.components_[2].round(4)"
   ]
  },
  {
   "cell_type": "code",
   "execution_count": 370,
   "metadata": {},
   "outputs": [],
   "source": [
    "from sklearn.preprocessing import StandardScaler\n",
    "\n",
    "ss = StandardScaler()\n",
    "x_wo_train = pd.DataFrame(ss.fit_transform(x_wo_train),columns=x_wo_train.columns)\n",
    "\n",
    "x_wo_test = ss.transform(x_wo_test)"
   ]
  },
  {
   "cell_type": "code",
   "execution_count": 371,
   "metadata": {},
   "outputs": [
    {
     "data": {
      "text/plain": [
       "LinearRegression(copy_X=True, fit_intercept=True, n_jobs=None, normalize=False)"
      ]
     },
     "execution_count": 371,
     "metadata": {},
     "output_type": "execute_result"
    }
   ],
   "source": [
    "lr_wo = LinearRegression()\n",
    "lr_wo.fit(x_wo_train,y_wo_train)"
   ]
  },
  {
   "cell_type": "code",
   "execution_count": 375,
   "metadata": {},
   "outputs": [],
   "source": [
    "params_wo = pd.Series(lr_wo.coef_, index=x_wo_train.columns)"
   ]
  },
  {
   "cell_type": "code",
   "execution_count": 377,
   "metadata": {},
   "outputs": [
    {
     "data": {
      "text/plain": [
       "host_total_listings_count                       3.242348e+12\n",
       "host_listings_count                             3.242348e+12\n",
       "nbg_Manhattan                                   8.015068e+11\n",
       "nbg_Brooklyn                                    7.370484e+11\n",
       "nbg_Queens                                      5.835189e+11\n",
       "nbg_Bronx                                       2.760758e+11\n",
       "nbg_Staten Island                               1.570634e+11\n",
       "rp_time_within an hour                          6.431663e+10\n",
       "rp_time_within a few hours                      6.309083e+10\n",
       "rp_time_within a day                            4.436804e+10\n",
       "rp_time_a few days or more                      4.401358e+10\n",
       "rt_Entire home/apt                              1.502001e+10\n",
       "rt_Private room                                 1.498798e+10\n",
       "rt_Shared room                                  3.671471e+09\n",
       "rt_Hotel room                                   1.882714e+09\n",
       "calculated_host_listings_count_entire_homes     4.816272e-01\n",
       "calculated_host_listings_count                  3.522893e-01\n",
       "calculated_host_listings_count_private_rooms    3.432044e-01\n",
       "accommodates                                    2.493064e-01\n",
       "minimum_nights                                  1.932508e-01\n",
       "longitude                                       1.808020e-01\n",
       "minimum_nights_avg_ntm                          1.138320e-01\n",
       "availability_30                                 9.000075e-02\n",
       "calculated_host_listings_count_shared_rooms     6.434792e-02\n",
       "availability_90                                 5.867656e-02\n",
       "bedrooms                                        5.600403e-02\n",
       "latitude                                        4.640835e-02\n",
       "instant_bookable                                4.573848e-02\n",
       "host_response_rate                              3.964251e-02\n",
       "host_is_superhost                               3.740724e-02\n",
       "maximum_nights_avg_ntm                          3.631123e-02\n",
       "availability_60                                 3.478090e-02\n",
       "host_acceptance_rate                            3.247567e-02\n",
       "availability_365                                2.179036e-02\n",
       "maximum_nights                                  2.060061e-02\n",
       "host_identity_verified                          1.264751e-02\n",
       "has_availability                                4.174982e-03\n",
       "beds                                            2.606405e-03\n",
       "host_has_profile_pic                            1.068745e-03\n",
       "dtype: float64"
      ]
     },
     "execution_count": 377,
     "metadata": {},
     "output_type": "execute_result"
    }
   ],
   "source": [
    "params_wo.abs().sort_values(ascending=False)"
   ]
  },
  {
   "cell_type": "code",
   "execution_count": 378,
   "metadata": {},
   "outputs": [
    {
     "name": "stdout",
     "output_type": "stream",
     "text": [
      "MAE: 0.351254\n",
      "RMSE: 0.483034\n",
      "R2 0.703047\n"
     ]
    }
   ],
   "source": [
    "y_wo_pred_train = lr_wo.predict(x_wo_train)\n",
    "print('MAE: %f'% mean_absolute_error(y_wo_train, y_wo_pred_train))\n",
    "print('RMSE: %f'% np.sqrt(mean_squared_error(y_wo_train, y_wo_pred_train)))   \n",
    "print('R2 %f' % r2_score(y_wo_train, y_wo_pred_train))"
   ]
  },
  {
   "cell_type": "code",
   "execution_count": 379,
   "metadata": {},
   "outputs": [
    {
     "name": "stdout",
     "output_type": "stream",
     "text": [
      "MAE: 0.363776\n",
      "RMSE: 0.492653\n",
      "R2 0.690759\n"
     ]
    }
   ],
   "source": [
    "y_wo_pred=lr_wo.predict(x_wo_test)\n",
    "print('MAE: %f'% mean_absolute_error(y_wo_test, y_wo_pred))\n",
    "print('RMSE: %f'% np.sqrt(mean_squared_error(y_wo_test, y_wo_pred)))   \n",
    "print('R2 %f' % r2_score(y_wo_test, y_wo_pred))"
   ]
  },
  {
   "cell_type": "markdown",
   "metadata": {},
   "source": [
    "### With review"
   ]
  },
  {
   "cell_type": "code",
   "execution_count": 380,
   "metadata": {},
   "outputs": [
    {
     "data": {
      "text/html": [
       "<div>\n",
       "<style scoped>\n",
       "    .dataframe tbody tr th:only-of-type {\n",
       "        vertical-align: middle;\n",
       "    }\n",
       "\n",
       "    .dataframe tbody tr th {\n",
       "        vertical-align: top;\n",
       "    }\n",
       "\n",
       "    .dataframe thead th {\n",
       "        text-align: right;\n",
       "    }\n",
       "</style>\n",
       "<table border=\"1\" class=\"dataframe\">\n",
       "  <thead>\n",
       "    <tr style=\"text-align: right;\">\n",
       "      <th></th>\n",
       "      <th>nbg_Bronx</th>\n",
       "      <th>nbg_Brooklyn</th>\n",
       "      <th>nbg_Manhattan</th>\n",
       "      <th>nbg_Queens</th>\n",
       "      <th>nbg_Staten Island</th>\n",
       "    </tr>\n",
       "  </thead>\n",
       "  <tbody>\n",
       "    <tr>\n",
       "      <th>0</th>\n",
       "      <td>0</td>\n",
       "      <td>0</td>\n",
       "      <td>1</td>\n",
       "      <td>0</td>\n",
       "      <td>0</td>\n",
       "    </tr>\n",
       "    <tr>\n",
       "      <th>1</th>\n",
       "      <td>0</td>\n",
       "      <td>1</td>\n",
       "      <td>0</td>\n",
       "      <td>0</td>\n",
       "      <td>0</td>\n",
       "    </tr>\n",
       "    <tr>\n",
       "      <th>2</th>\n",
       "      <td>0</td>\n",
       "      <td>1</td>\n",
       "      <td>0</td>\n",
       "      <td>0</td>\n",
       "      <td>0</td>\n",
       "    </tr>\n",
       "    <tr>\n",
       "      <th>3</th>\n",
       "      <td>0</td>\n",
       "      <td>1</td>\n",
       "      <td>0</td>\n",
       "      <td>0</td>\n",
       "      <td>0</td>\n",
       "    </tr>\n",
       "    <tr>\n",
       "      <th>4</th>\n",
       "      <td>0</td>\n",
       "      <td>0</td>\n",
       "      <td>1</td>\n",
       "      <td>0</td>\n",
       "      <td>0</td>\n",
       "    </tr>\n",
       "  </tbody>\n",
       "</table>\n",
       "</div>"
      ],
      "text/plain": [
       "   nbg_Bronx  nbg_Brooklyn  nbg_Manhattan  nbg_Queens  nbg_Staten Island\n",
       "0          0             0              1           0                  0\n",
       "1          0             1              0           0                  0\n",
       "2          0             1              0           0                  0\n",
       "3          0             1              0           0                  0\n",
       "4          0             0              1           0                  0"
      ]
     },
     "execution_count": 380,
     "metadata": {},
     "output_type": "execute_result"
    }
   ],
   "source": [
    "df_w_dum = pd.get_dummies(df_with_review.neighbourhood_group_cleansed, prefix='nbg')\n",
    "df_w_dum.head()"
   ]
  },
  {
   "cell_type": "code",
   "execution_count": 381,
   "metadata": {},
   "outputs": [
    {
     "data": {
      "text/html": [
       "<div>\n",
       "<style scoped>\n",
       "    .dataframe tbody tr th:only-of-type {\n",
       "        vertical-align: middle;\n",
       "    }\n",
       "\n",
       "    .dataframe tbody tr th {\n",
       "        vertical-align: top;\n",
       "    }\n",
       "\n",
       "    .dataframe thead th {\n",
       "        text-align: right;\n",
       "    }\n",
       "</style>\n",
       "<table border=\"1\" class=\"dataframe\">\n",
       "  <thead>\n",
       "    <tr style=\"text-align: right;\">\n",
       "      <th></th>\n",
       "      <th>rt_Entire home/apt</th>\n",
       "      <th>rt_Hotel room</th>\n",
       "      <th>rt_Private room</th>\n",
       "      <th>rt_Shared room</th>\n",
       "    </tr>\n",
       "  </thead>\n",
       "  <tbody>\n",
       "    <tr>\n",
       "      <th>0</th>\n",
       "      <td>1</td>\n",
       "      <td>0</td>\n",
       "      <td>0</td>\n",
       "      <td>0</td>\n",
       "    </tr>\n",
       "    <tr>\n",
       "      <th>1</th>\n",
       "      <td>1</td>\n",
       "      <td>0</td>\n",
       "      <td>0</td>\n",
       "      <td>0</td>\n",
       "    </tr>\n",
       "    <tr>\n",
       "      <th>2</th>\n",
       "      <td>0</td>\n",
       "      <td>0</td>\n",
       "      <td>1</td>\n",
       "      <td>0</td>\n",
       "    </tr>\n",
       "    <tr>\n",
       "      <th>3</th>\n",
       "      <td>1</td>\n",
       "      <td>0</td>\n",
       "      <td>0</td>\n",
       "      <td>0</td>\n",
       "    </tr>\n",
       "    <tr>\n",
       "      <th>4</th>\n",
       "      <td>0</td>\n",
       "      <td>0</td>\n",
       "      <td>1</td>\n",
       "      <td>0</td>\n",
       "    </tr>\n",
       "  </tbody>\n",
       "</table>\n",
       "</div>"
      ],
      "text/plain": [
       "   rt_Entire home/apt  rt_Hotel room  rt_Private room  rt_Shared room\n",
       "0                   1              0                0               0\n",
       "1                   1              0                0               0\n",
       "2                   0              0                1               0\n",
       "3                   1              0                0               0\n",
       "4                   0              0                1               0"
      ]
     },
     "execution_count": 381,
     "metadata": {},
     "output_type": "execute_result"
    }
   ],
   "source": [
    "df_w_rt_dum = pd.get_dummies(df_with_review.room_type, prefix='rt')\n",
    "df_w_rt_dum.head()"
   ]
  },
  {
   "cell_type": "code",
   "execution_count": 382,
   "metadata": {},
   "outputs": [
    {
     "data": {
      "text/html": [
       "<div>\n",
       "<style scoped>\n",
       "    .dataframe tbody tr th:only-of-type {\n",
       "        vertical-align: middle;\n",
       "    }\n",
       "\n",
       "    .dataframe tbody tr th {\n",
       "        vertical-align: top;\n",
       "    }\n",
       "\n",
       "    .dataframe thead th {\n",
       "        text-align: right;\n",
       "    }\n",
       "</style>\n",
       "<table border=\"1\" class=\"dataframe\">\n",
       "  <thead>\n",
       "    <tr style=\"text-align: right;\">\n",
       "      <th></th>\n",
       "      <th>rp_time_a few days or more</th>\n",
       "      <th>rp_time_within a day</th>\n",
       "      <th>rp_time_within a few hours</th>\n",
       "      <th>rp_time_within an hour</th>\n",
       "    </tr>\n",
       "  </thead>\n",
       "  <tbody>\n",
       "    <tr>\n",
       "      <th>0</th>\n",
       "      <td>0</td>\n",
       "      <td>1</td>\n",
       "      <td>0</td>\n",
       "      <td>0</td>\n",
       "    </tr>\n",
       "    <tr>\n",
       "      <th>1</th>\n",
       "      <td>1</td>\n",
       "      <td>0</td>\n",
       "      <td>0</td>\n",
       "      <td>0</td>\n",
       "    </tr>\n",
       "    <tr>\n",
       "      <th>2</th>\n",
       "      <td>0</td>\n",
       "      <td>0</td>\n",
       "      <td>0</td>\n",
       "      <td>1</td>\n",
       "    </tr>\n",
       "    <tr>\n",
       "      <th>3</th>\n",
       "      <td>0</td>\n",
       "      <td>1</td>\n",
       "      <td>0</td>\n",
       "      <td>0</td>\n",
       "    </tr>\n",
       "    <tr>\n",
       "      <th>4</th>\n",
       "      <td>0</td>\n",
       "      <td>1</td>\n",
       "      <td>0</td>\n",
       "      <td>0</td>\n",
       "    </tr>\n",
       "  </tbody>\n",
       "</table>\n",
       "</div>"
      ],
      "text/plain": [
       "   rp_time_a few days or more  rp_time_within a day  \\\n",
       "0                           0                     1   \n",
       "1                           1                     0   \n",
       "2                           0                     0   \n",
       "3                           0                     1   \n",
       "4                           0                     1   \n",
       "\n",
       "   rp_time_within a few hours  rp_time_within an hour  \n",
       "0                           0                       0  \n",
       "1                           0                       0  \n",
       "2                           0                       1  \n",
       "3                           0                       0  \n",
       "4                           0                       0  "
      ]
     },
     "execution_count": 382,
     "metadata": {},
     "output_type": "execute_result"
    }
   ],
   "source": [
    "df_w_rep_dum = pd.get_dummies(df_with_review.host_response_time, prefix='rp_time')\n",
    "df_w_rep_dum.head()"
   ]
  },
  {
   "cell_type": "code",
   "execution_count": 386,
   "metadata": {},
   "outputs": [],
   "source": [
    "df_w = df_with_review.drop(columns=['neighbourhood_group_cleansed','room_type','host_response_time',\n",
    "                                        'host_is_superhost','host_has_profile_pic','host_identity_verified',\n",
    "                                        'has_availability','instant_bookable','minimum_minimum_nights', \n",
    "                                        'maximum_minimum_nights','minimum_maximum_nights', 'maximum_maximum_nights',\n",
    "                                       'property_type','host_verifications','calendar_last_scraped',\n",
    "                                       'amenities'])"
   ]
  },
  {
   "cell_type": "code",
   "execution_count": 388,
   "metadata": {},
   "outputs": [
    {
     "data": {
      "text/html": [
       "<div>\n",
       "<style scoped>\n",
       "    .dataframe tbody tr th:only-of-type {\n",
       "        vertical-align: middle;\n",
       "    }\n",
       "\n",
       "    .dataframe tbody tr th {\n",
       "        vertical-align: top;\n",
       "    }\n",
       "\n",
       "    .dataframe thead th {\n",
       "        text-align: right;\n",
       "    }\n",
       "</style>\n",
       "<table border=\"1\" class=\"dataframe\">\n",
       "  <thead>\n",
       "    <tr style=\"text-align: right;\">\n",
       "      <th></th>\n",
       "      <th>host_is_superhost</th>\n",
       "      <th>host_has_profile_pic</th>\n",
       "      <th>host_identity_verified</th>\n",
       "      <th>has_availability</th>\n",
       "      <th>instant_bookable</th>\n",
       "    </tr>\n",
       "  </thead>\n",
       "  <tbody>\n",
       "    <tr>\n",
       "      <th>0</th>\n",
       "      <td>0</td>\n",
       "      <td>1</td>\n",
       "      <td>1</td>\n",
       "      <td>1</td>\n",
       "      <td>0</td>\n",
       "    </tr>\n",
       "    <tr>\n",
       "      <th>1</th>\n",
       "      <td>0</td>\n",
       "      <td>1</td>\n",
       "      <td>1</td>\n",
       "      <td>1</td>\n",
       "      <td>0</td>\n",
       "    </tr>\n",
       "    <tr>\n",
       "      <th>2</th>\n",
       "      <td>0</td>\n",
       "      <td>1</td>\n",
       "      <td>1</td>\n",
       "      <td>1</td>\n",
       "      <td>0</td>\n",
       "    </tr>\n",
       "    <tr>\n",
       "      <th>3</th>\n",
       "      <td>0</td>\n",
       "      <td>1</td>\n",
       "      <td>1</td>\n",
       "      <td>1</td>\n",
       "      <td>0</td>\n",
       "    </tr>\n",
       "    <tr>\n",
       "      <th>4</th>\n",
       "      <td>0</td>\n",
       "      <td>1</td>\n",
       "      <td>0</td>\n",
       "      <td>1</td>\n",
       "      <td>0</td>\n",
       "    </tr>\n",
       "  </tbody>\n",
       "</table>\n",
       "</div>"
      ],
      "text/plain": [
       "   host_is_superhost  host_has_profile_pic  host_identity_verified  \\\n",
       "0                  0                     1                       1   \n",
       "1                  0                     1                       1   \n",
       "2                  0                     1                       1   \n",
       "3                  0                     1                       1   \n",
       "4                  0                     1                       0   \n",
       "\n",
       "   has_availability  instant_bookable  \n",
       "0                 1                 0  \n",
       "1                 1                 0  \n",
       "2                 1                 0  \n",
       "3                 1                 0  \n",
       "4                 1                 0  "
      ]
     },
     "execution_count": 388,
     "metadata": {},
     "output_type": "execute_result"
    }
   ],
   "source": [
    "tf_mapping = {'t':1,\n",
    "              'f':0}\n",
    "\n",
    "w_features = pd.DataFrame()\n",
    "w_features['host_is_superhost'] = df_with_review['host_is_superhost'].map(tf_mapping)\n",
    "w_features['host_has_profile_pic'] = df_with_review['host_has_profile_pic'].map(tf_mapping)\n",
    "w_features['host_identity_verified'] = df_with_review['host_identity_verified'].map(tf_mapping)\n",
    "w_features['has_availability'] = df_with_review['has_availability'].map(tf_mapping)\n",
    "w_features['instant_bookable'] = df_with_review['instant_bookable'].map(tf_mapping)\n",
    "w_features.head()"
   ]
  },
  {
   "cell_type": "code",
   "execution_count": 393,
   "metadata": {},
   "outputs": [],
   "source": [
    "df_w = df_w.drop(columns=['first_review', 'last_review'])"
   ]
  },
  {
   "cell_type": "code",
   "execution_count": 396,
   "metadata": {},
   "outputs": [
    {
     "data": {
      "text/plain": [
       "(16229, 33)"
      ]
     },
     "execution_count": 396,
     "metadata": {},
     "output_type": "execute_result"
    }
   ],
   "source": [
    "df_w.shape"
   ]
  },
  {
   "cell_type": "code",
   "execution_count": 397,
   "metadata": {},
   "outputs": [],
   "source": [
    "df_w_reg = df_w.join(df_w_rt_dum).join(df_w_dum).join(df_w_rep_dum).join(w_features)"
   ]
  },
  {
   "cell_type": "code",
   "execution_count": 398,
   "metadata": {},
   "outputs": [
    {
     "name": "stderr",
     "output_type": "stream",
     "text": [
      "/opt/anaconda3/lib/python3.7/site-packages/pandas/core/series.py:679: RuntimeWarning: divide by zero encountered in log\n",
      "  result = getattr(ufunc, method)(*inputs, **kwargs)\n"
     ]
    }
   ],
   "source": [
    "lp = np.log(df_w_reg.price)"
   ]
  },
  {
   "cell_type": "code",
   "execution_count": 399,
   "metadata": {},
   "outputs": [
    {
     "data": {
      "text/plain": [
       "0.98"
      ]
     },
     "execution_count": 399,
     "metadata": {},
     "output_type": "execute_result"
    }
   ],
   "source": [
    "### outlier\n",
    "lp25,lp75 = lp.quantile(.25),lp.quantile(.75)\n",
    "liqr = lp75 - lp25\n",
    "liqr.round(2)"
   ]
  },
  {
   "cell_type": "code",
   "execution_count": 400,
   "metadata": {},
   "outputs": [
    {
     "name": "stdout",
     "output_type": "stream",
     "text": [
      "6.769561246065626\n",
      "2.846244234018721\n"
     ]
    }
   ],
   "source": [
    "print(lp75+(1.5*liqr))\n",
    "print(lp25-(1.5*liqr))"
   ]
  },
  {
   "cell_type": "code",
   "execution_count": 404,
   "metadata": {},
   "outputs": [
    {
     "name": "stderr",
     "output_type": "stream",
     "text": [
      "/opt/anaconda3/lib/python3.7/site-packages/ipykernel_launcher.py:1: UserWarning: Boolean Series key will be reindexed to match DataFrame index.\n",
      "  \"\"\"Entry point for launching an IPython kernel.\n"
     ]
    }
   ],
   "source": [
    "df_w_reg = df_w_reg[(lp<lp75+(1.5*liqr)) & (lp>lp25-(1.5*liqr))]"
   ]
  },
  {
   "cell_type": "code",
   "execution_count": 405,
   "metadata": {},
   "outputs": [
    {
     "data": {
      "text/plain": [
       "(15998, 51)"
      ]
     },
     "execution_count": 405,
     "metadata": {},
     "output_type": "execute_result"
    }
   ],
   "source": [
    "df_w_reg.shape"
   ]
  },
  {
   "cell_type": "code",
   "execution_count": 406,
   "metadata": {},
   "outputs": [],
   "source": [
    "X_w = df_w_reg.drop(columns=['price'])\n",
    "y_w = np.log(df_w_reg.price)"
   ]
  },
  {
   "cell_type": "code",
   "execution_count": 407,
   "metadata": {},
   "outputs": [],
   "source": [
    "x_w_train,x_w_test,y_w_train,y_w_test=train_test_split(X_w,y_w,test_size=.3,random_state=123)"
   ]
  },
  {
   "cell_type": "code",
   "execution_count": 408,
   "metadata": {},
   "outputs": [],
   "source": [
    "pca_w = PCA(n_components=6).fit(x_w_train)"
   ]
  },
  {
   "cell_type": "code",
   "execution_count": 410,
   "metadata": {},
   "outputs": [
    {
     "data": {
      "text/plain": [
       "array([1., 0., 0., 0., 0., 0.])"
      ]
     },
     "execution_count": 410,
     "metadata": {},
     "output_type": "execute_result"
    }
   ],
   "source": [
    "pca_w.explained_variance_ratio_.round(4)"
   ]
  },
  {
   "cell_type": "code",
   "execution_count": 412,
   "metadata": {},
   "outputs": [],
   "source": [
    "ss = StandardScaler()\n",
    "x_w_train = pd.DataFrame(ss.fit_transform(x_w_train),columns=x_w_train.columns)\n",
    "\n",
    "x_w_test = ss.transform(x_w_test)"
   ]
  },
  {
   "cell_type": "code",
   "execution_count": 413,
   "metadata": {},
   "outputs": [
    {
     "data": {
      "text/plain": [
       "LinearRegression(copy_X=True, fit_intercept=True, n_jobs=None, normalize=False)"
      ]
     },
     "execution_count": 413,
     "metadata": {},
     "output_type": "execute_result"
    }
   ],
   "source": [
    "lr_w = LinearRegression()\n",
    "lr_w.fit(x_w_train,y_w_train)"
   ]
  },
  {
   "cell_type": "code",
   "execution_count": 414,
   "metadata": {},
   "outputs": [],
   "source": [
    "params_w = pd.Series(lr_w.coef_, index=x_w_train.columns)"
   ]
  },
  {
   "cell_type": "code",
   "execution_count": 415,
   "metadata": {},
   "outputs": [
    {
     "data": {
      "text/plain": [
       "rp_time_within an hour                          2.057506e+11\n",
       "rp_time_within a few hours                      1.732892e+11\n",
       "rp_time_within a day                            1.472273e+11\n",
       "rp_time_a few days or more                      9.878948e+10\n",
       "nbg_Manhattan                                   8.373767e+10\n",
       "nbg_Brooklyn                                    8.264996e+10\n",
       "host_listings_count                             7.142032e+10\n",
       "host_total_listings_count                       7.142032e+10\n",
       "rt_Entire home/apt                              6.432465e+10\n",
       "rt_Private room                                 6.395422e+10\n",
       "nbg_Queens                                      6.345209e+10\n",
       "nbg_Bronx                                       3.314632e+10\n",
       "nbg_Staten Island                               1.993208e+10\n",
       "rt_Shared room                                  1.426522e+10\n",
       "rt_Hotel room                                   1.051398e+10\n",
       "calculated_host_listings_count                  7.138901e-01\n",
       "calculated_host_listings_count_entire_homes     5.364609e-01\n",
       "calculated_host_listings_count_private_rooms    3.721600e-01\n",
       "accommodates                                    1.875089e-01\n",
       "longitude                                       1.789813e-01\n",
       "minimum_nights                                  1.103666e-01\n",
       "bedrooms                                        9.285085e-02\n",
       "availability_30                                 8.274269e-02\n",
       "review_scores_cleanliness                       7.225418e-02\n",
       "latitude                                        5.769476e-02\n",
       "review_scores_location                          5.361176e-02\n",
       "availability_90                                 5.110264e-02\n",
       "review_scores_rating                            4.813385e-02\n",
       "number_of_reviews                               4.562378e-02\n",
       "review_scores_accuracy                          4.126740e-02\n",
       "review_scores_value                             3.957367e-02\n",
       "minimum_nights_avg_ntm                          3.919125e-02\n",
       "maximum_nights_avg_ntm                          3.766251e-02\n",
       "number_of_reviews_ltm                           3.159904e-02\n",
       "instant_bookable                                2.874470e-02\n",
       "review_scores_checkin                           2.413559e-02\n",
       "availability_365                                2.198410e-02\n",
       "host_identity_verified                          1.906967e-02\n",
       "number_of_reviews_l30d                          1.694870e-02\n",
       "calculated_host_listings_count_shared_rooms     1.608896e-02\n",
       "availability_60                                 1.534081e-02\n",
       "host_is_superhost                               1.477528e-02\n",
       "review_scores_communication                     8.239746e-03\n",
       "reviews_per_month                               7.959366e-03\n",
       "maximum_nights                                  7.462502e-03\n",
       "beds                                            7.428491e-03\n",
       "host_acceptance_rate                            6.992087e-03\n",
       "has_availability                                5.912781e-03\n",
       "host_response_rate                              4.850842e-03\n",
       "host_has_profile_pic                            2.937317e-04\n",
       "dtype: float64"
      ]
     },
     "execution_count": 415,
     "metadata": {},
     "output_type": "execute_result"
    }
   ],
   "source": [
    "params_w.abs().sort_values(ascending=False)"
   ]
  },
  {
   "cell_type": "code",
   "execution_count": 416,
   "metadata": {},
   "outputs": [
    {
     "name": "stdout",
     "output_type": "stream",
     "text": [
      "MAE: 0.317654\n",
      "RMSE: 0.415657\n",
      "R2 0.630854\n"
     ]
    }
   ],
   "source": [
    "y_w_pred_train = lr_w.predict(x_w_train)\n",
    "print('MAE: %f'% mean_absolute_error(y_w_train, y_w_pred_train))\n",
    "print('RMSE: %f'% np.sqrt(mean_squared_error(y_w_train, y_w_pred_train)))   \n",
    "print('R2 %f' % r2_score(y_w_train, y_w_pred_train))"
   ]
  },
  {
   "cell_type": "code",
   "execution_count": 417,
   "metadata": {},
   "outputs": [
    {
     "name": "stdout",
     "output_type": "stream",
     "text": [
      "MAE: 0.319106\n",
      "RMSE: 0.420199\n",
      "R2 0.624029\n"
     ]
    }
   ],
   "source": [
    "y_w_pred=lr_w.predict(x_w_test)\n",
    "print('MAE: %f'% mean_absolute_error(y_w_test, y_w_pred))\n",
    "print('RMSE: %f'% np.sqrt(mean_squared_error(y_w_test, y_w_pred)))   \n",
    "print('R2 %f' % r2_score(y_w_test, y_w_pred))"
   ]
  },
  {
   "cell_type": "markdown",
   "metadata": {},
   "source": [
    "### below is previous analysis"
   ]
  },
  {
   "cell_type": "code",
   "execution_count": 37,
   "metadata": {},
   "outputs": [
    {
     "data": {
      "text/plain": [
       "106.0"
      ]
     },
     "execution_count": 37,
     "metadata": {},
     "output_type": "execute_result"
    }
   ],
   "source": [
    "# delete price outlier\n",
    "p25,p75 = df_pdum2.price.quantile(.25),df_pdum2.price.quantile(.75)\n",
    "iqr = p75 - p25\n",
    "iqr.round(2)"
   ]
  },
  {
   "cell_type": "code",
   "execution_count": 38,
   "metadata": {},
   "outputs": [
    {
     "name": "stdout",
     "output_type": "stream",
     "text": [
      "334.0\n",
      "-90.0\n"
     ]
    }
   ],
   "source": [
    "print(p75+(1.5*iqr))\n",
    "print(p25-(1.5*iqr))"
   ]
  },
  {
   "cell_type": "code",
   "execution_count": 52,
   "metadata": {},
   "outputs": [
    {
     "data": {
      "text/plain": [
       "(45903, 21)"
      ]
     },
     "execution_count": 52,
     "metadata": {},
     "output_type": "execute_result"
    }
   ],
   "source": [
    "df_pdum2[(df_pdum2.price< p75+(1.5*iqr)) & (df_pdum2.price > p25-(1.5*iqr))].shape"
   ]
  },
  {
   "cell_type": "code",
   "execution_count": 42,
   "metadata": {},
   "outputs": [],
   "source": [
    "log_price=np.log(df_pdum2.price)"
   ]
  },
  {
   "cell_type": "code",
   "execution_count": 43,
   "metadata": {},
   "outputs": [
    {
     "data": {
      "text/plain": [
       "0.93"
      ]
     },
     "execution_count": 43,
     "metadata": {},
     "output_type": "execute_result"
    }
   ],
   "source": [
    "lp25,lp75 = log_price.quantile(.25),log_price.quantile(.75)\n",
    "liqr = lp75 - lp25\n",
    "liqr.round(2)"
   ]
  },
  {
   "cell_type": "code",
   "execution_count": 44,
   "metadata": {},
   "outputs": [
    {
     "name": "stdout",
     "output_type": "stream",
     "text": [
      "6.560805177912897\n",
      "2.8380873006078775\n"
     ]
    }
   ],
   "source": [
    "print(lp75+(1.5*liqr))\n",
    "print(lp25-(1.5*liqr))"
   ]
  },
  {
   "cell_type": "code",
   "execution_count": 54,
   "metadata": {},
   "outputs": [
    {
     "data": {
      "text/plain": [
       "(48242, 21)"
      ]
     },
     "execution_count": 54,
     "metadata": {},
     "output_type": "execute_result"
    }
   ],
   "source": [
    "df_pdum2[(log_price<lp75+(1.5*liqr)) & (log_price>lp25-(1.5*liqr))].shape"
   ]
  },
  {
   "cell_type": "code",
   "execution_count": 55,
   "metadata": {},
   "outputs": [
    {
     "data": {
      "text/plain": [
       "(48242,)"
      ]
     },
     "execution_count": 55,
     "metadata": {},
     "output_type": "execute_result"
    }
   ],
   "source": [
    "log_price[(log_price<lp75+(1.5*liqr)) & (log_price>lp25-(1.5*liqr))].shape"
   ]
  },
  {
   "cell_type": "code",
   "execution_count": 57,
   "metadata": {},
   "outputs": [
    {
     "data": {
      "text/plain": [
       "count    48879.000000\n",
       "mean       112.788989\n",
       "std        131.613322\n",
       "min          0.000000\n",
       "25%          0.000000\n",
       "50%         45.000000\n",
       "75%        227.000000\n",
       "max        365.000000\n",
       "Name: availability_365, dtype: float64"
      ]
     },
     "execution_count": 57,
     "metadata": {},
     "output_type": "execute_result"
    }
   ],
   "source": [
    "df_pdum2.availability_365.describe()"
   ]
  },
  {
   "cell_type": "code",
   "execution_count": 123,
   "metadata": {},
   "outputs": [
    {
     "name": "stdout",
     "output_type": "stream",
     "text": [
      "0.0\n",
      "359.0\n"
     ]
    }
   ],
   "source": [
    "av_p,av_p75 = df_pdum2.availability_365.quantile(.05),df_pdum2.availability_365.quantile(.95)\n",
    "print(av_p25)\n",
    "print(av_p75)"
   ]
  },
  {
   "cell_type": "code",
   "execution_count": 58,
   "metadata": {},
   "outputs": [
    {
     "data": {
      "text/html": [
       "<div>\n",
       "<style scoped>\n",
       "    .dataframe tbody tr th:only-of-type {\n",
       "        vertical-align: middle;\n",
       "    }\n",
       "\n",
       "    .dataframe tbody tr th {\n",
       "        vertical-align: top;\n",
       "    }\n",
       "\n",
       "    .dataframe thead th {\n",
       "        text-align: right;\n",
       "    }\n",
       "</style>\n",
       "<table border=\"1\" class=\"dataframe\">\n",
       "  <thead>\n",
       "    <tr style=\"text-align: right;\">\n",
       "      <th></th>\n",
       "      <th>name</th>\n",
       "      <th>host_id</th>\n",
       "      <th>neighbourhood_group</th>\n",
       "      <th>neighbourhood</th>\n",
       "      <th>latitude</th>\n",
       "      <th>longitude</th>\n",
       "      <th>room_type</th>\n",
       "      <th>price</th>\n",
       "      <th>minimum_nights</th>\n",
       "      <th>number_of_reviews</th>\n",
       "      <th>...</th>\n",
       "      <th>nbg_Bronx</th>\n",
       "      <th>nbg_Brooklyn</th>\n",
       "      <th>nbg_Manhattan</th>\n",
       "      <th>nbg_Queens</th>\n",
       "      <th>nbg_Staten Island</th>\n",
       "      <th>rt_Entire home/apt</th>\n",
       "      <th>rt_Private room</th>\n",
       "      <th>rt_Shared room</th>\n",
       "      <th>all_year_avail</th>\n",
       "      <th>low_avail</th>\n",
       "    </tr>\n",
       "  </thead>\n",
       "  <tbody>\n",
       "    <tr>\n",
       "      <th>0</th>\n",
       "      <td>Clean &amp; quiet apt home by the park</td>\n",
       "      <td>2787</td>\n",
       "      <td>Brooklyn</td>\n",
       "      <td>Kensington</td>\n",
       "      <td>40.64749</td>\n",
       "      <td>-73.97237</td>\n",
       "      <td>Private room</td>\n",
       "      <td>149</td>\n",
       "      <td>1</td>\n",
       "      <td>9</td>\n",
       "      <td>...</td>\n",
       "      <td>0</td>\n",
       "      <td>1</td>\n",
       "      <td>0</td>\n",
       "      <td>0</td>\n",
       "      <td>0</td>\n",
       "      <td>0</td>\n",
       "      <td>1</td>\n",
       "      <td>0</td>\n",
       "      <td>True</td>\n",
       "      <td>False</td>\n",
       "    </tr>\n",
       "    <tr>\n",
       "      <th>1</th>\n",
       "      <td>Skylit Midtown Castle</td>\n",
       "      <td>2845</td>\n",
       "      <td>Manhattan</td>\n",
       "      <td>Midtown</td>\n",
       "      <td>40.75362</td>\n",
       "      <td>-73.98377</td>\n",
       "      <td>Entire home/apt</td>\n",
       "      <td>225</td>\n",
       "      <td>1</td>\n",
       "      <td>45</td>\n",
       "      <td>...</td>\n",
       "      <td>0</td>\n",
       "      <td>0</td>\n",
       "      <td>1</td>\n",
       "      <td>0</td>\n",
       "      <td>0</td>\n",
       "      <td>1</td>\n",
       "      <td>0</td>\n",
       "      <td>0</td>\n",
       "      <td>True</td>\n",
       "      <td>False</td>\n",
       "    </tr>\n",
       "    <tr>\n",
       "      <th>2</th>\n",
       "      <td>THE VILLAGE OF HARLEM....NEW YORK !</td>\n",
       "      <td>4632</td>\n",
       "      <td>Manhattan</td>\n",
       "      <td>Harlem</td>\n",
       "      <td>40.80902</td>\n",
       "      <td>-73.94190</td>\n",
       "      <td>Private room</td>\n",
       "      <td>150</td>\n",
       "      <td>3</td>\n",
       "      <td>0</td>\n",
       "      <td>...</td>\n",
       "      <td>0</td>\n",
       "      <td>0</td>\n",
       "      <td>1</td>\n",
       "      <td>0</td>\n",
       "      <td>0</td>\n",
       "      <td>0</td>\n",
       "      <td>1</td>\n",
       "      <td>0</td>\n",
       "      <td>True</td>\n",
       "      <td>False</td>\n",
       "    </tr>\n",
       "    <tr>\n",
       "      <th>3</th>\n",
       "      <td>Cozy Entire Floor of Brownstone</td>\n",
       "      <td>4869</td>\n",
       "      <td>Brooklyn</td>\n",
       "      <td>Clinton Hill</td>\n",
       "      <td>40.68514</td>\n",
       "      <td>-73.95976</td>\n",
       "      <td>Entire home/apt</td>\n",
       "      <td>89</td>\n",
       "      <td>1</td>\n",
       "      <td>270</td>\n",
       "      <td>...</td>\n",
       "      <td>0</td>\n",
       "      <td>1</td>\n",
       "      <td>0</td>\n",
       "      <td>0</td>\n",
       "      <td>0</td>\n",
       "      <td>1</td>\n",
       "      <td>0</td>\n",
       "      <td>0</td>\n",
       "      <td>False</td>\n",
       "      <td>False</td>\n",
       "    </tr>\n",
       "    <tr>\n",
       "      <th>4</th>\n",
       "      <td>Entire Apt: Spacious Studio/Loft by central park</td>\n",
       "      <td>7192</td>\n",
       "      <td>Manhattan</td>\n",
       "      <td>East Harlem</td>\n",
       "      <td>40.79851</td>\n",
       "      <td>-73.94399</td>\n",
       "      <td>Entire home/apt</td>\n",
       "      <td>80</td>\n",
       "      <td>10</td>\n",
       "      <td>9</td>\n",
       "      <td>...</td>\n",
       "      <td>0</td>\n",
       "      <td>0</td>\n",
       "      <td>1</td>\n",
       "      <td>0</td>\n",
       "      <td>0</td>\n",
       "      <td>1</td>\n",
       "      <td>0</td>\n",
       "      <td>0</td>\n",
       "      <td>False</td>\n",
       "      <td>True</td>\n",
       "    </tr>\n",
       "  </tbody>\n",
       "</table>\n",
       "<p>5 rows × 23 columns</p>\n",
       "</div>"
      ],
      "text/plain": [
       "                                               name  host_id  \\\n",
       "0                Clean & quiet apt home by the park     2787   \n",
       "1                             Skylit Midtown Castle     2845   \n",
       "2               THE VILLAGE OF HARLEM....NEW YORK !     4632   \n",
       "3                   Cozy Entire Floor of Brownstone     4869   \n",
       "4  Entire Apt: Spacious Studio/Loft by central park     7192   \n",
       "\n",
       "  neighbourhood_group neighbourhood  latitude  longitude        room_type  \\\n",
       "0            Brooklyn    Kensington  40.64749  -73.97237     Private room   \n",
       "1           Manhattan       Midtown  40.75362  -73.98377  Entire home/apt   \n",
       "2           Manhattan        Harlem  40.80902  -73.94190     Private room   \n",
       "3            Brooklyn  Clinton Hill  40.68514  -73.95976  Entire home/apt   \n",
       "4           Manhattan   East Harlem  40.79851  -73.94399  Entire home/apt   \n",
       "\n",
       "   price  minimum_nights  number_of_reviews  ...  nbg_Bronx  nbg_Brooklyn  \\\n",
       "0    149               1                  9  ...          0             1   \n",
       "1    225               1                 45  ...          0             0   \n",
       "2    150               3                  0  ...          0             0   \n",
       "3     89               1                270  ...          0             1   \n",
       "4     80              10                  9  ...          0             0   \n",
       "\n",
       "   nbg_Manhattan  nbg_Queens  nbg_Staten Island  rt_Entire home/apt  \\\n",
       "0              0           0                  0                   0   \n",
       "1              1           0                  0                   1   \n",
       "2              1           0                  0                   0   \n",
       "3              0           0                  0                   1   \n",
       "4              1           0                  0                   1   \n",
       "\n",
       "   rt_Private room  rt_Shared room  all_year_avail  low_avail  \n",
       "0                1               0            True      False  \n",
       "1                0               0            True      False  \n",
       "2                1               0            True      False  \n",
       "3                0               0           False      False  \n",
       "4                0               0           False       True  \n",
       "\n",
       "[5 rows x 23 columns]"
      ]
     },
     "execution_count": 58,
     "metadata": {},
     "output_type": "execute_result"
    }
   ],
   "source": [
    "## add some features here\n",
    "df_pdum2['all_year_avail'] = df_pdum2['availability_365']>353\n",
    "df_pdum2['low_avail'] = df_pdum2['availability_365']< 12\n",
    "df_pdum2.head()"
   ]
  },
  {
   "cell_type": "code",
   "execution_count": 60,
   "metadata": {},
   "outputs": [
    {
     "data": {
      "text/plain": [
       "(48242, 23)"
      ]
     },
     "execution_count": 60,
     "metadata": {},
     "output_type": "execute_result"
    }
   ],
   "source": [
    "## drop outliers and drop columns do not need\n",
    "df_forR = df_pdum2[(log_price<lp75+(1.5*liqr)) & (log_price>lp25-(1.5*liqr))]\n",
    "df_forR.shape"
   ]
  },
  {
   "cell_type": "code",
   "execution_count": 63,
   "metadata": {},
   "outputs": [],
   "source": [
    "mapping = {True:1,\n",
    "           False:0}"
   ]
  },
  {
   "cell_type": "code",
   "execution_count": 65,
   "metadata": {},
   "outputs": [
    {
     "name": "stderr",
     "output_type": "stream",
     "text": [
      "/opt/anaconda3/lib/python3.7/site-packages/ipykernel_launcher.py:1: SettingWithCopyWarning: \n",
      "A value is trying to be set on a copy of a slice from a DataFrame.\n",
      "Try using .loc[row_indexer,col_indexer] = value instead\n",
      "\n",
      "See the caveats in the documentation: https://pandas.pydata.org/pandas-docs/stable/user_guide/indexing.html#returning-a-view-versus-a-copy\n",
      "  \"\"\"Entry point for launching an IPython kernel.\n"
     ]
    }
   ],
   "source": [
    "df_forR['all_year'] = df_forR.all_year_avail.map(mapping)"
   ]
  },
  {
   "cell_type": "code",
   "execution_count": 66,
   "metadata": {},
   "outputs": [
    {
     "data": {
      "text/html": [
       "<div>\n",
       "<style scoped>\n",
       "    .dataframe tbody tr th:only-of-type {\n",
       "        vertical-align: middle;\n",
       "    }\n",
       "\n",
       "    .dataframe tbody tr th {\n",
       "        vertical-align: top;\n",
       "    }\n",
       "\n",
       "    .dataframe thead th {\n",
       "        text-align: right;\n",
       "    }\n",
       "</style>\n",
       "<table border=\"1\" class=\"dataframe\">\n",
       "  <thead>\n",
       "    <tr style=\"text-align: right;\">\n",
       "      <th></th>\n",
       "      <th>name</th>\n",
       "      <th>host_id</th>\n",
       "      <th>neighbourhood_group</th>\n",
       "      <th>neighbourhood</th>\n",
       "      <th>latitude</th>\n",
       "      <th>longitude</th>\n",
       "      <th>room_type</th>\n",
       "      <th>price</th>\n",
       "      <th>minimum_nights</th>\n",
       "      <th>number_of_reviews</th>\n",
       "      <th>...</th>\n",
       "      <th>nbg_Brooklyn</th>\n",
       "      <th>nbg_Manhattan</th>\n",
       "      <th>nbg_Queens</th>\n",
       "      <th>nbg_Staten Island</th>\n",
       "      <th>rt_Entire home/apt</th>\n",
       "      <th>rt_Private room</th>\n",
       "      <th>rt_Shared room</th>\n",
       "      <th>all_year_avail</th>\n",
       "      <th>low_avail</th>\n",
       "      <th>all_year</th>\n",
       "    </tr>\n",
       "  </thead>\n",
       "  <tbody>\n",
       "    <tr>\n",
       "      <th>0</th>\n",
       "      <td>Clean &amp; quiet apt home by the park</td>\n",
       "      <td>2787</td>\n",
       "      <td>Brooklyn</td>\n",
       "      <td>Kensington</td>\n",
       "      <td>40.64749</td>\n",
       "      <td>-73.97237</td>\n",
       "      <td>Private room</td>\n",
       "      <td>149</td>\n",
       "      <td>1</td>\n",
       "      <td>9</td>\n",
       "      <td>...</td>\n",
       "      <td>1</td>\n",
       "      <td>0</td>\n",
       "      <td>0</td>\n",
       "      <td>0</td>\n",
       "      <td>0</td>\n",
       "      <td>1</td>\n",
       "      <td>0</td>\n",
       "      <td>True</td>\n",
       "      <td>False</td>\n",
       "      <td>1</td>\n",
       "    </tr>\n",
       "    <tr>\n",
       "      <th>1</th>\n",
       "      <td>Skylit Midtown Castle</td>\n",
       "      <td>2845</td>\n",
       "      <td>Manhattan</td>\n",
       "      <td>Midtown</td>\n",
       "      <td>40.75362</td>\n",
       "      <td>-73.98377</td>\n",
       "      <td>Entire home/apt</td>\n",
       "      <td>225</td>\n",
       "      <td>1</td>\n",
       "      <td>45</td>\n",
       "      <td>...</td>\n",
       "      <td>0</td>\n",
       "      <td>1</td>\n",
       "      <td>0</td>\n",
       "      <td>0</td>\n",
       "      <td>1</td>\n",
       "      <td>0</td>\n",
       "      <td>0</td>\n",
       "      <td>True</td>\n",
       "      <td>False</td>\n",
       "      <td>1</td>\n",
       "    </tr>\n",
       "    <tr>\n",
       "      <th>2</th>\n",
       "      <td>THE VILLAGE OF HARLEM....NEW YORK !</td>\n",
       "      <td>4632</td>\n",
       "      <td>Manhattan</td>\n",
       "      <td>Harlem</td>\n",
       "      <td>40.80902</td>\n",
       "      <td>-73.94190</td>\n",
       "      <td>Private room</td>\n",
       "      <td>150</td>\n",
       "      <td>3</td>\n",
       "      <td>0</td>\n",
       "      <td>...</td>\n",
       "      <td>0</td>\n",
       "      <td>1</td>\n",
       "      <td>0</td>\n",
       "      <td>0</td>\n",
       "      <td>0</td>\n",
       "      <td>1</td>\n",
       "      <td>0</td>\n",
       "      <td>True</td>\n",
       "      <td>False</td>\n",
       "      <td>1</td>\n",
       "    </tr>\n",
       "    <tr>\n",
       "      <th>3</th>\n",
       "      <td>Cozy Entire Floor of Brownstone</td>\n",
       "      <td>4869</td>\n",
       "      <td>Brooklyn</td>\n",
       "      <td>Clinton Hill</td>\n",
       "      <td>40.68514</td>\n",
       "      <td>-73.95976</td>\n",
       "      <td>Entire home/apt</td>\n",
       "      <td>89</td>\n",
       "      <td>1</td>\n",
       "      <td>270</td>\n",
       "      <td>...</td>\n",
       "      <td>1</td>\n",
       "      <td>0</td>\n",
       "      <td>0</td>\n",
       "      <td>0</td>\n",
       "      <td>1</td>\n",
       "      <td>0</td>\n",
       "      <td>0</td>\n",
       "      <td>False</td>\n",
       "      <td>False</td>\n",
       "      <td>0</td>\n",
       "    </tr>\n",
       "    <tr>\n",
       "      <th>4</th>\n",
       "      <td>Entire Apt: Spacious Studio/Loft by central park</td>\n",
       "      <td>7192</td>\n",
       "      <td>Manhattan</td>\n",
       "      <td>East Harlem</td>\n",
       "      <td>40.79851</td>\n",
       "      <td>-73.94399</td>\n",
       "      <td>Entire home/apt</td>\n",
       "      <td>80</td>\n",
       "      <td>10</td>\n",
       "      <td>9</td>\n",
       "      <td>...</td>\n",
       "      <td>0</td>\n",
       "      <td>1</td>\n",
       "      <td>0</td>\n",
       "      <td>0</td>\n",
       "      <td>1</td>\n",
       "      <td>0</td>\n",
       "      <td>0</td>\n",
       "      <td>False</td>\n",
       "      <td>True</td>\n",
       "      <td>0</td>\n",
       "    </tr>\n",
       "  </tbody>\n",
       "</table>\n",
       "<p>5 rows × 24 columns</p>\n",
       "</div>"
      ],
      "text/plain": [
       "                                               name  host_id  \\\n",
       "0                Clean & quiet apt home by the park     2787   \n",
       "1                             Skylit Midtown Castle     2845   \n",
       "2               THE VILLAGE OF HARLEM....NEW YORK !     4632   \n",
       "3                   Cozy Entire Floor of Brownstone     4869   \n",
       "4  Entire Apt: Spacious Studio/Loft by central park     7192   \n",
       "\n",
       "  neighbourhood_group neighbourhood  latitude  longitude        room_type  \\\n",
       "0            Brooklyn    Kensington  40.64749  -73.97237     Private room   \n",
       "1           Manhattan       Midtown  40.75362  -73.98377  Entire home/apt   \n",
       "2           Manhattan        Harlem  40.80902  -73.94190     Private room   \n",
       "3            Brooklyn  Clinton Hill  40.68514  -73.95976  Entire home/apt   \n",
       "4           Manhattan   East Harlem  40.79851  -73.94399  Entire home/apt   \n",
       "\n",
       "   price  minimum_nights  number_of_reviews  ...  nbg_Brooklyn  nbg_Manhattan  \\\n",
       "0    149               1                  9  ...             1              0   \n",
       "1    225               1                 45  ...             0              1   \n",
       "2    150               3                  0  ...             0              1   \n",
       "3     89               1                270  ...             1              0   \n",
       "4     80              10                  9  ...             0              1   \n",
       "\n",
       "   nbg_Queens  nbg_Staten Island  rt_Entire home/apt  rt_Private room  \\\n",
       "0           0                  0                   0                1   \n",
       "1           0                  0                   1                0   \n",
       "2           0                  0                   0                1   \n",
       "3           0                  0                   1                0   \n",
       "4           0                  0                   1                0   \n",
       "\n",
       "   rt_Shared room  all_year_avail  low_avail  all_year  \n",
       "0               0            True      False         1  \n",
       "1               0            True      False         1  \n",
       "2               0            True      False         1  \n",
       "3               0           False      False         0  \n",
       "4               0           False       True         0  \n",
       "\n",
       "[5 rows x 24 columns]"
      ]
     },
     "execution_count": 66,
     "metadata": {},
     "output_type": "execute_result"
    }
   ],
   "source": [
    "df_forR.head()"
   ]
  },
  {
   "cell_type": "code",
   "execution_count": 67,
   "metadata": {},
   "outputs": [
    {
     "name": "stderr",
     "output_type": "stream",
     "text": [
      "/opt/anaconda3/lib/python3.7/site-packages/ipykernel_launcher.py:1: SettingWithCopyWarning: \n",
      "A value is trying to be set on a copy of a slice from a DataFrame.\n",
      "Try using .loc[row_indexer,col_indexer] = value instead\n",
      "\n",
      "See the caveats in the documentation: https://pandas.pydata.org/pandas-docs/stable/user_guide/indexing.html#returning-a-view-versus-a-copy\n",
      "  \"\"\"Entry point for launching an IPython kernel.\n"
     ]
    }
   ],
   "source": [
    "df_forR['low_available'] = df_forR.low_avail.map(mapping)"
   ]
  },
  {
   "cell_type": "code",
   "execution_count": 68,
   "metadata": {},
   "outputs": [
    {
     "data": {
      "text/html": [
       "<div>\n",
       "<style scoped>\n",
       "    .dataframe tbody tr th:only-of-type {\n",
       "        vertical-align: middle;\n",
       "    }\n",
       "\n",
       "    .dataframe tbody tr th {\n",
       "        vertical-align: top;\n",
       "    }\n",
       "\n",
       "    .dataframe thead th {\n",
       "        text-align: right;\n",
       "    }\n",
       "</style>\n",
       "<table border=\"1\" class=\"dataframe\">\n",
       "  <thead>\n",
       "    <tr style=\"text-align: right;\">\n",
       "      <th></th>\n",
       "      <th>name</th>\n",
       "      <th>host_id</th>\n",
       "      <th>neighbourhood_group</th>\n",
       "      <th>neighbourhood</th>\n",
       "      <th>latitude</th>\n",
       "      <th>longitude</th>\n",
       "      <th>room_type</th>\n",
       "      <th>price</th>\n",
       "      <th>minimum_nights</th>\n",
       "      <th>number_of_reviews</th>\n",
       "      <th>...</th>\n",
       "      <th>nbg_Manhattan</th>\n",
       "      <th>nbg_Queens</th>\n",
       "      <th>nbg_Staten Island</th>\n",
       "      <th>rt_Entire home/apt</th>\n",
       "      <th>rt_Private room</th>\n",
       "      <th>rt_Shared room</th>\n",
       "      <th>all_year_avail</th>\n",
       "      <th>low_avail</th>\n",
       "      <th>all_year</th>\n",
       "      <th>low_available</th>\n",
       "    </tr>\n",
       "  </thead>\n",
       "  <tbody>\n",
       "    <tr>\n",
       "      <th>0</th>\n",
       "      <td>Clean &amp; quiet apt home by the park</td>\n",
       "      <td>2787</td>\n",
       "      <td>Brooklyn</td>\n",
       "      <td>Kensington</td>\n",
       "      <td>40.64749</td>\n",
       "      <td>-73.97237</td>\n",
       "      <td>Private room</td>\n",
       "      <td>149</td>\n",
       "      <td>1</td>\n",
       "      <td>9</td>\n",
       "      <td>...</td>\n",
       "      <td>0</td>\n",
       "      <td>0</td>\n",
       "      <td>0</td>\n",
       "      <td>0</td>\n",
       "      <td>1</td>\n",
       "      <td>0</td>\n",
       "      <td>True</td>\n",
       "      <td>False</td>\n",
       "      <td>1</td>\n",
       "      <td>0</td>\n",
       "    </tr>\n",
       "    <tr>\n",
       "      <th>1</th>\n",
       "      <td>Skylit Midtown Castle</td>\n",
       "      <td>2845</td>\n",
       "      <td>Manhattan</td>\n",
       "      <td>Midtown</td>\n",
       "      <td>40.75362</td>\n",
       "      <td>-73.98377</td>\n",
       "      <td>Entire home/apt</td>\n",
       "      <td>225</td>\n",
       "      <td>1</td>\n",
       "      <td>45</td>\n",
       "      <td>...</td>\n",
       "      <td>1</td>\n",
       "      <td>0</td>\n",
       "      <td>0</td>\n",
       "      <td>1</td>\n",
       "      <td>0</td>\n",
       "      <td>0</td>\n",
       "      <td>True</td>\n",
       "      <td>False</td>\n",
       "      <td>1</td>\n",
       "      <td>0</td>\n",
       "    </tr>\n",
       "    <tr>\n",
       "      <th>2</th>\n",
       "      <td>THE VILLAGE OF HARLEM....NEW YORK !</td>\n",
       "      <td>4632</td>\n",
       "      <td>Manhattan</td>\n",
       "      <td>Harlem</td>\n",
       "      <td>40.80902</td>\n",
       "      <td>-73.94190</td>\n",
       "      <td>Private room</td>\n",
       "      <td>150</td>\n",
       "      <td>3</td>\n",
       "      <td>0</td>\n",
       "      <td>...</td>\n",
       "      <td>1</td>\n",
       "      <td>0</td>\n",
       "      <td>0</td>\n",
       "      <td>0</td>\n",
       "      <td>1</td>\n",
       "      <td>0</td>\n",
       "      <td>True</td>\n",
       "      <td>False</td>\n",
       "      <td>1</td>\n",
       "      <td>0</td>\n",
       "    </tr>\n",
       "    <tr>\n",
       "      <th>3</th>\n",
       "      <td>Cozy Entire Floor of Brownstone</td>\n",
       "      <td>4869</td>\n",
       "      <td>Brooklyn</td>\n",
       "      <td>Clinton Hill</td>\n",
       "      <td>40.68514</td>\n",
       "      <td>-73.95976</td>\n",
       "      <td>Entire home/apt</td>\n",
       "      <td>89</td>\n",
       "      <td>1</td>\n",
       "      <td>270</td>\n",
       "      <td>...</td>\n",
       "      <td>0</td>\n",
       "      <td>0</td>\n",
       "      <td>0</td>\n",
       "      <td>1</td>\n",
       "      <td>0</td>\n",
       "      <td>0</td>\n",
       "      <td>False</td>\n",
       "      <td>False</td>\n",
       "      <td>0</td>\n",
       "      <td>0</td>\n",
       "    </tr>\n",
       "    <tr>\n",
       "      <th>4</th>\n",
       "      <td>Entire Apt: Spacious Studio/Loft by central park</td>\n",
       "      <td>7192</td>\n",
       "      <td>Manhattan</td>\n",
       "      <td>East Harlem</td>\n",
       "      <td>40.79851</td>\n",
       "      <td>-73.94399</td>\n",
       "      <td>Entire home/apt</td>\n",
       "      <td>80</td>\n",
       "      <td>10</td>\n",
       "      <td>9</td>\n",
       "      <td>...</td>\n",
       "      <td>1</td>\n",
       "      <td>0</td>\n",
       "      <td>0</td>\n",
       "      <td>1</td>\n",
       "      <td>0</td>\n",
       "      <td>0</td>\n",
       "      <td>False</td>\n",
       "      <td>True</td>\n",
       "      <td>0</td>\n",
       "      <td>1</td>\n",
       "    </tr>\n",
       "  </tbody>\n",
       "</table>\n",
       "<p>5 rows × 25 columns</p>\n",
       "</div>"
      ],
      "text/plain": [
       "                                               name  host_id  \\\n",
       "0                Clean & quiet apt home by the park     2787   \n",
       "1                             Skylit Midtown Castle     2845   \n",
       "2               THE VILLAGE OF HARLEM....NEW YORK !     4632   \n",
       "3                   Cozy Entire Floor of Brownstone     4869   \n",
       "4  Entire Apt: Spacious Studio/Loft by central park     7192   \n",
       "\n",
       "  neighbourhood_group neighbourhood  latitude  longitude        room_type  \\\n",
       "0            Brooklyn    Kensington  40.64749  -73.97237     Private room   \n",
       "1           Manhattan       Midtown  40.75362  -73.98377  Entire home/apt   \n",
       "2           Manhattan        Harlem  40.80902  -73.94190     Private room   \n",
       "3            Brooklyn  Clinton Hill  40.68514  -73.95976  Entire home/apt   \n",
       "4           Manhattan   East Harlem  40.79851  -73.94399  Entire home/apt   \n",
       "\n",
       "   price  minimum_nights  number_of_reviews  ...  nbg_Manhattan  nbg_Queens  \\\n",
       "0    149               1                  9  ...              0           0   \n",
       "1    225               1                 45  ...              1           0   \n",
       "2    150               3                  0  ...              1           0   \n",
       "3     89               1                270  ...              0           0   \n",
       "4     80              10                  9  ...              1           0   \n",
       "\n",
       "   nbg_Staten Island  rt_Entire home/apt  rt_Private room  rt_Shared room  \\\n",
       "0                  0                   0                1               0   \n",
       "1                  0                   1                0               0   \n",
       "2                  0                   0                1               0   \n",
       "3                  0                   1                0               0   \n",
       "4                  0                   1                0               0   \n",
       "\n",
       "   all_year_avail  low_avail  all_year  low_available  \n",
       "0            True      False         1              0  \n",
       "1            True      False         1              0  \n",
       "2            True      False         1              0  \n",
       "3           False      False         0              0  \n",
       "4           False       True         0              1  \n",
       "\n",
       "[5 rows x 25 columns]"
      ]
     },
     "execution_count": 68,
     "metadata": {},
     "output_type": "execute_result"
    }
   ],
   "source": [
    "df_forR.head()"
   ]
  },
  {
   "cell_type": "code",
   "execution_count": 69,
   "metadata": {},
   "outputs": [
    {
     "data": {
      "text/plain": [
       "Index(['name', 'host_id', 'neighbourhood_group', 'neighbourhood', 'latitude',\n",
       "       'longitude', 'room_type', 'price', 'minimum_nights',\n",
       "       'number_of_reviews', 'reviews_per_month',\n",
       "       'calculated_host_listings_count', 'availability_365', 'nbg_Bronx',\n",
       "       'nbg_Brooklyn', 'nbg_Manhattan', 'nbg_Queens', 'nbg_Staten Island',\n",
       "       'rt_Entire home/apt', 'rt_Private room', 'rt_Shared room',\n",
       "       'all_year_avail', 'low_avail', 'all_year', 'low_available'],\n",
       "      dtype='object')"
      ]
     },
     "execution_count": 69,
     "metadata": {},
     "output_type": "execute_result"
    }
   ],
   "source": [
    "df_forR.columns"
   ]
  },
  {
   "cell_type": "code",
   "execution_count": 79,
   "metadata": {},
   "outputs": [],
   "source": [
    "## prepare X and y\n",
    "X = df_forR[['minimum_nights', 'number_of_reviews', 'reviews_per_month',\n",
    "       'calculated_host_listings_count', 'availability_365', 'nbg_Bronx',\n",
    "       'nbg_Brooklyn', 'nbg_Manhattan', 'nbg_Queens', 'nbg_Staten Island',\n",
    "       'rt_Entire home/apt', 'rt_Private room', 'rt_Shared room','all_year', 'low_available' ]]"
   ]
  },
  {
   "cell_type": "code",
   "execution_count": 80,
   "metadata": {},
   "outputs": [
    {
     "data": {
      "text/html": [
       "<div>\n",
       "<style scoped>\n",
       "    .dataframe tbody tr th:only-of-type {\n",
       "        vertical-align: middle;\n",
       "    }\n",
       "\n",
       "    .dataframe tbody tr th {\n",
       "        vertical-align: top;\n",
       "    }\n",
       "\n",
       "    .dataframe thead th {\n",
       "        text-align: right;\n",
       "    }\n",
       "</style>\n",
       "<table border=\"1\" class=\"dataframe\">\n",
       "  <thead>\n",
       "    <tr style=\"text-align: right;\">\n",
       "      <th></th>\n",
       "      <th>minimum_nights</th>\n",
       "      <th>number_of_reviews</th>\n",
       "      <th>reviews_per_month</th>\n",
       "      <th>calculated_host_listings_count</th>\n",
       "      <th>availability_365</th>\n",
       "      <th>nbg_Bronx</th>\n",
       "      <th>nbg_Brooklyn</th>\n",
       "      <th>nbg_Manhattan</th>\n",
       "      <th>nbg_Queens</th>\n",
       "      <th>nbg_Staten Island</th>\n",
       "      <th>rt_Entire home/apt</th>\n",
       "      <th>rt_Private room</th>\n",
       "      <th>rt_Shared room</th>\n",
       "      <th>all_year</th>\n",
       "      <th>low_available</th>\n",
       "    </tr>\n",
       "  </thead>\n",
       "  <tbody>\n",
       "    <tr>\n",
       "      <th>0</th>\n",
       "      <td>1</td>\n",
       "      <td>9</td>\n",
       "      <td>0.21</td>\n",
       "      <td>6</td>\n",
       "      <td>365</td>\n",
       "      <td>0</td>\n",
       "      <td>1</td>\n",
       "      <td>0</td>\n",
       "      <td>0</td>\n",
       "      <td>0</td>\n",
       "      <td>0</td>\n",
       "      <td>1</td>\n",
       "      <td>0</td>\n",
       "      <td>1</td>\n",
       "      <td>0</td>\n",
       "    </tr>\n",
       "    <tr>\n",
       "      <th>1</th>\n",
       "      <td>1</td>\n",
       "      <td>45</td>\n",
       "      <td>0.38</td>\n",
       "      <td>2</td>\n",
       "      <td>355</td>\n",
       "      <td>0</td>\n",
       "      <td>0</td>\n",
       "      <td>1</td>\n",
       "      <td>0</td>\n",
       "      <td>0</td>\n",
       "      <td>1</td>\n",
       "      <td>0</td>\n",
       "      <td>0</td>\n",
       "      <td>1</td>\n",
       "      <td>0</td>\n",
       "    </tr>\n",
       "    <tr>\n",
       "      <th>2</th>\n",
       "      <td>3</td>\n",
       "      <td>0</td>\n",
       "      <td>0.00</td>\n",
       "      <td>1</td>\n",
       "      <td>365</td>\n",
       "      <td>0</td>\n",
       "      <td>0</td>\n",
       "      <td>1</td>\n",
       "      <td>0</td>\n",
       "      <td>0</td>\n",
       "      <td>0</td>\n",
       "      <td>1</td>\n",
       "      <td>0</td>\n",
       "      <td>1</td>\n",
       "      <td>0</td>\n",
       "    </tr>\n",
       "    <tr>\n",
       "      <th>3</th>\n",
       "      <td>1</td>\n",
       "      <td>270</td>\n",
       "      <td>4.64</td>\n",
       "      <td>1</td>\n",
       "      <td>194</td>\n",
       "      <td>0</td>\n",
       "      <td>1</td>\n",
       "      <td>0</td>\n",
       "      <td>0</td>\n",
       "      <td>0</td>\n",
       "      <td>1</td>\n",
       "      <td>0</td>\n",
       "      <td>0</td>\n",
       "      <td>0</td>\n",
       "      <td>0</td>\n",
       "    </tr>\n",
       "    <tr>\n",
       "      <th>4</th>\n",
       "      <td>10</td>\n",
       "      <td>9</td>\n",
       "      <td>0.10</td>\n",
       "      <td>1</td>\n",
       "      <td>0</td>\n",
       "      <td>0</td>\n",
       "      <td>0</td>\n",
       "      <td>1</td>\n",
       "      <td>0</td>\n",
       "      <td>0</td>\n",
       "      <td>1</td>\n",
       "      <td>0</td>\n",
       "      <td>0</td>\n",
       "      <td>0</td>\n",
       "      <td>1</td>\n",
       "    </tr>\n",
       "  </tbody>\n",
       "</table>\n",
       "</div>"
      ],
      "text/plain": [
       "   minimum_nights  number_of_reviews  reviews_per_month  \\\n",
       "0               1                  9               0.21   \n",
       "1               1                 45               0.38   \n",
       "2               3                  0               0.00   \n",
       "3               1                270               4.64   \n",
       "4              10                  9               0.10   \n",
       "\n",
       "   calculated_host_listings_count  availability_365  nbg_Bronx  nbg_Brooklyn  \\\n",
       "0                               6               365          0             1   \n",
       "1                               2               355          0             0   \n",
       "2                               1               365          0             0   \n",
       "3                               1               194          0             1   \n",
       "4                               1                 0          0             0   \n",
       "\n",
       "   nbg_Manhattan  nbg_Queens  nbg_Staten Island  rt_Entire home/apt  \\\n",
       "0              0           0                  0                   0   \n",
       "1              1           0                  0                   1   \n",
       "2              1           0                  0                   0   \n",
       "3              0           0                  0                   1   \n",
       "4              1           0                  0                   1   \n",
       "\n",
       "   rt_Private room  rt_Shared room  all_year  low_available  \n",
       "0                1               0         1              0  \n",
       "1                0               0         1              0  \n",
       "2                1               0         1              0  \n",
       "3                0               0         0              0  \n",
       "4                0               0         0              1  "
      ]
     },
     "execution_count": 80,
     "metadata": {},
     "output_type": "execute_result"
    }
   ],
   "source": [
    "X.head()"
   ]
  },
  {
   "cell_type": "code",
   "execution_count": 81,
   "metadata": {},
   "outputs": [],
   "source": [
    "y = np.log(df_forR.price)"
   ]
  },
  {
   "cell_type": "code",
   "execution_count": 94,
   "metadata": {},
   "outputs": [],
   "source": [
    "## Train test split\n",
    "from sklearn.linear_model import LinearRegression\n",
    "from sklearn.model_selection import train_test_split\n",
    "from sklearn.metrics import r2_score\n",
    "from sklearn import metrics\n",
    "from sklearn.metrics import mean_squared_error\n",
    "from sklearn.metrics import mean_absolute_error\n",
    "from math import sqrt"
   ]
  },
  {
   "cell_type": "code",
   "execution_count": 83,
   "metadata": {},
   "outputs": [],
   "source": [
    "x_train,x_test,y_train,y_test=train_test_split(X,y,test_size=.2,random_state=2022)"
   ]
  },
  {
   "cell_type": "code",
   "execution_count": 86,
   "metadata": {},
   "outputs": [
    {
     "data": {
      "text/plain": [
       "(38593, 15)"
      ]
     },
     "execution_count": 86,
     "metadata": {},
     "output_type": "execute_result"
    }
   ],
   "source": [
    "x_train.shape"
   ]
  },
  {
   "cell_type": "code",
   "execution_count": 87,
   "metadata": {},
   "outputs": [
    {
     "data": {
      "text/plain": [
       "(9649, 15)"
      ]
     },
     "execution_count": 87,
     "metadata": {},
     "output_type": "execute_result"
    }
   ],
   "source": [
    "x_test.shape"
   ]
  },
  {
   "cell_type": "code",
   "execution_count": 88,
   "metadata": {},
   "outputs": [
    {
     "data": {
      "text/plain": [
       "LinearRegression(copy_X=True, fit_intercept=True, n_jobs=None, normalize=False)"
      ]
     },
     "execution_count": 88,
     "metadata": {},
     "output_type": "execute_result"
    }
   ],
   "source": [
    "lr = LinearRegression()\n",
    "lr.fit(x_train,y_train)"
   ]
  },
  {
   "cell_type": "code",
   "execution_count": 98,
   "metadata": {},
   "outputs": [
    {
     "data": {
      "text/plain": [
       "minimum_nights                   -0.002361\n",
       "number_of_reviews                -0.000401\n",
       "reviews_per_month                -0.011773\n",
       "calculated_host_listings_count    0.000444\n",
       "availability_365                  0.000188\n",
       "nbg_Bronx                        -0.189374\n",
       "nbg_Brooklyn                      0.072293\n",
       "nbg_Manhattan                     0.372392\n",
       "nbg_Queens                       -0.060762\n",
       "nbg_Staten Island                -0.194549\n",
       "rt_Entire home/apt                0.643864\n",
       "rt_Private room                  -0.121576\n",
       "rt_Shared room                   -0.522287\n",
       "all_year                          0.160557\n",
       "low_available                    -0.102008\n",
       "dtype: float64"
      ]
     },
     "execution_count": 98,
     "metadata": {},
     "output_type": "execute_result"
    }
   ],
   "source": [
    "params = pd.Series(lr.coef_, index=X.columns)\n",
    "params"
   ]
  },
  {
   "cell_type": "code",
   "execution_count": 97,
   "metadata": {},
   "outputs": [
    {
     "name": "stdout",
     "output_type": "stream",
     "text": [
      "MAE: 0.345033\n",
      "RMSE: 0.448479\n",
      "R2 0.517411\n"
     ]
    }
   ],
   "source": [
    "y_pred_train = lr.predict(x_train)\n",
    "print('MAE: %f'% mean_absolute_error(y_train, y_pred_train))\n",
    "print('RMSE: %f'% np.sqrt(mean_squared_error(y_train, y_pred_train)))   \n",
    "print('R2 %f' % r2_score(y_train, y_pred_train))"
   ]
  },
  {
   "cell_type": "code",
   "execution_count": 95,
   "metadata": {},
   "outputs": [
    {
     "name": "stdout",
     "output_type": "stream",
     "text": [
      "MAE: 0.343769\n",
      "RMSE: 0.443962\n",
      "R2 0.523268\n"
     ]
    }
   ],
   "source": [
    "y_pred=lr.predict(x_test)\n",
    "print('MAE: %f'% mean_absolute_error(y_test, y_pred))\n",
    "print('RMSE: %f'% np.sqrt(mean_squared_error(y_test, y_pred)))   \n",
    "print('R2 %f' % r2_score(y_test, y_pred))"
   ]
  }
 ],
 "metadata": {
  "kernelspec": {
   "display_name": "Python 3",
   "language": "python",
   "name": "python3"
  },
  "language_info": {
   "codemirror_mode": {
    "name": "ipython",
    "version": 3
   },
   "file_extension": ".py",
   "mimetype": "text/x-python",
   "name": "python",
   "nbconvert_exporter": "python",
   "pygments_lexer": "ipython3",
   "version": "3.7.6"
  }
 },
 "nbformat": 4,
 "nbformat_minor": 4
}
